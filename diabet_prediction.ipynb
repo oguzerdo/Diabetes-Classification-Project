{
 "cells": [
  {
   "cell_type": "markdown",
   "metadata": {
    "papermill": {
     "duration": 0.037532,
     "end_time": "2020-11-08T15:20:59.730620",
     "exception": false,
     "start_time": "2020-11-08T15:20:59.693088",
     "status": "completed"
    },
    "tags": []
   },
   "source": [
    "<a href=\"https://www.oguzerdogan.com/\">\n",
    "    <img src=\"https://www.oguzerdogan.com/wp-content/uploads/2020/10/logo_oz.png\" width=\"200\" align=\"right\">\n",
    "</a>"
   ]
  },
  {
   "cell_type": "markdown",
   "metadata": {
    "papermill": {
     "duration": 0.034949,
     "end_time": "2020-11-08T15:20:59.801091",
     "exception": false,
     "start_time": "2020-11-08T15:20:59.766142",
     "status": "completed"
    },
    "tags": []
   },
   "source": [
    "<center><h1><strong>Pima Indians Diabetes Classification Project</strong></h1>\n",
    "<img\n",
    "src=\"https://cdn.britannica.com/s:700x500/42/93542-050-E2B32DAB/women-Pima-shinny-game-field-hockey.jpg\">\n",
    "</center>"
   ]
  },
  {
   "cell_type": "markdown",
   "metadata": {
    "papermill": {
     "duration": 0.034941,
     "end_time": "2020-11-08T15:20:59.871354",
     "exception": false,
     "start_time": "2020-11-08T15:20:59.836413",
     "status": "completed"
    },
    "tags": []
   },
   "source": [
    "# &#127919; Objective of Kernel"
   ]
  },
  {
   "cell_type": "markdown",
   "metadata": {
    "papermill": {
     "duration": 0.035103,
     "end_time": "2020-11-08T15:20:59.941840",
     "exception": false,
     "start_time": "2020-11-08T15:20:59.906737",
     "status": "completed"
    },
    "tags": []
   },
   "source": [
    "Diabetes, is a group of metabolic disorders in which there are high blood sugar levels over a prolonged period. Symptoms of high blood sugar include frequent urination, increased thirst, and increased hunger. If left untreated, diabetes can cause many complications. Acute complications can include diabetic ketoacidosis, hyperosmolar hyperglycemic state, or death. Serious long-term complications include cardiovascular disease, stroke, chronic kidney disease, foot ulcers, and damage to the eyes.\n",
    "\n",
    "This dataset is originally from the National Institute of Diabetes and Digestive and Kidney Diseases. \n",
    "\n",
    "The objective of the dataset is to diagnostically predict whether or not a patient has diabetes, based on certain diagnostic measurements included in the dataset. Several constraints were placed on the selection of these instances from a larger database. In particular, all patients here are **females at least 21 years old of Pima Indian heritage.**\n",
    "\n",
    "--------------------"
   ]
  },
  {
   "cell_type": "markdown",
   "metadata": {
    "papermill": {
     "duration": 0.03521,
     "end_time": "2020-11-08T15:21:00.012630",
     "exception": false,
     "start_time": "2020-11-08T15:20:59.977420",
     "status": "completed"
    },
    "tags": []
   },
   "source": [
    "**Details about the dataset:**\n",
    "The datasets consists of several medical predictor variables and one target variable, Outcome. Predictor variables includes the number of pregnancies the patient has had, their BMI, insulin level, age, and so on.\n",
    "\n",
    "**Pregnancies:** Number of times pregnant  \n",
    "**Glucose:** Plasma glucose concentration a 2 hours in an oral glucose tolerance test  \n",
    "**BloodPressure:** Diastolic blood pressure (mm Hg)  \n",
    "**SkinThickness:** Triceps skin fold thickness (mm)  \n",
    "**Insulin:** 2-Hour serum insulin (mu U/ml)  \n",
    "**BMI:** Body mass index (weight in kg/(height in m)^2)  \n",
    "**DiabetesPedigreeFunction:** Diabetes pedigree function  \n",
    "**Age:** Age (years)  \n",
    "**Outcome:** Class variable ( 0 - 1)\n",
    "\n",
    "-----------\n",
    "\n",
    "**Number of Observation Units:** 768  \n",
    "**Variable Number:** 9\n",
    "\n",
    "Result; The model with the highest score after hyper parameter optimization was LGBM with 0.90 cross validation score."
   ]
  },
  {
   "cell_type": "code",
   "execution_count": 1,
   "metadata": {
    "execution": {
     "iopub.execute_input": "2020-11-08T15:21:00.091274Z",
     "iopub.status.busy": "2020-11-08T15:21:00.090375Z",
     "iopub.status.idle": "2020-11-08T15:21:00.094937Z",
     "shell.execute_reply": "2020-11-08T15:21:00.094303Z"
    },
    "jupyter": {
     "source_hidden": true
    },
    "papermill": {
     "duration": 0.046608,
     "end_time": "2020-11-08T15:21:00.095080",
     "exception": false,
     "start_time": "2020-11-08T15:21:00.048472",
     "status": "completed"
    },
    "tags": []
   },
   "outputs": [
    {
     "data": {
      "text/html": [
       "<style> \n",
       "@import url('https://fonts.googleapis.com/css?family=Orbitron|Roboto');\n",
       "a {color: #37c9e1; font-family: 'Roboto';} \n",
       "h1 {color: #C20E69; font-family: 'Poppins'} \n",
       "h2, h3 {color: #25B89B; font-family: 'Poppins';}\n",
       "h4 {color: #818286; font-family: 'Roboto';}\n",
       "                                      \n",
       "</style>\n"
      ],
      "text/plain": [
       "<IPython.core.display.HTML object>"
      ]
     },
     "metadata": {},
     "output_type": "display_data"
    }
   ],
   "source": [
    "%%html\n",
    "<style> \n",
    "@import url('https://fonts.googleapis.com/css?family=Orbitron|Roboto');\n",
    "a {color: #37c9e1; font-family: 'Roboto';} \n",
    "h1 {color: #C20E69; font-family: 'Poppins'} \n",
    "h2, h3 {color: #25B89B; font-family: 'Poppins';}\n",
    "h4 {color: #818286; font-family: 'Roboto';}\n",
    "                                      \n",
    "</style>"
   ]
  },
  {
   "cell_type": "markdown",
   "metadata": {
    "papermill": {
     "duration": 0.036088,
     "end_time": "2020-11-08T15:21:00.167864",
     "exception": false,
     "start_time": "2020-11-08T15:21:00.131776",
     "status": "completed"
    },
    "tags": []
   },
   "source": [
    "# &#128217; Load Libraries"
   ]
  },
  {
   "cell_type": "code",
   "execution_count": 2,
   "metadata": {
    "execution": {
     "iopub.execute_input": "2020-11-08T15:21:00.255394Z",
     "iopub.status.busy": "2020-11-08T15:21:00.254600Z",
     "iopub.status.idle": "2020-11-08T15:21:03.883913Z",
     "shell.execute_reply": "2020-11-08T15:21:03.883246Z"
    },
    "papermill": {
     "duration": 3.679919,
     "end_time": "2020-11-08T15:21:03.884076",
     "exception": false,
     "start_time": "2020-11-08T15:21:00.204157",
     "status": "completed"
    },
    "tags": []
   },
   "outputs": [
    {
     "data": {
      "text/html": [
       "        <script type=\"text/javascript\">\n",
       "        window.PlotlyConfig = {MathJaxConfig: 'local'};\n",
       "        if (window.MathJax) {MathJax.Hub.Config({SVG: {font: \"STIX-Web\"}});}\n",
       "        if (typeof require !== 'undefined') {\n",
       "        require.undef(\"plotly\");\n",
       "        requirejs.config({\n",
       "            paths: {\n",
       "                'plotly': ['https://cdn.plot.ly/plotly-latest.min']\n",
       "            }\n",
       "        });\n",
       "        require(['plotly'], function(Plotly) {\n",
       "            window._Plotly = Plotly;\n",
       "        });\n",
       "        }\n",
       "        </script>\n",
       "        "
      ]
     },
     "metadata": {},
     "output_type": "display_data"
    }
   ],
   "source": [
    "# Main\n",
    "\n",
    "import pandas as pd\n",
    "import numpy as np\n",
    "import warnings\n",
    "\n",
    "# Plots\n",
    "\n",
    "import seaborn as sns\n",
    "import matplotlib.pyplot as plt\n",
    "%matplotlib inline\n",
    "import plotly.offline as py\n",
    "import plotly.graph_objs as go\n",
    "from plotly.offline import download_plotlyjs, init_notebook_mode, plot, iplot\n",
    "import plotly.tools as tls\n",
    "import plotly.figure_factory as ff\n",
    "import itertools\n",
    "plt.style.use('fivethirtyeight')\n",
    "py.offline.init_notebook_mode(connected=True)\n",
    "\n",
    "# Models & Others\n",
    "\n",
    "from sklearn.neighbors import LocalOutlierFactor\n",
    "from sklearn.preprocessing import scale, StandardScaler\n",
    "from sklearn.model_selection import train_test_split, GridSearchCV, cross_val_score\n",
    "from sklearn.metrics import confusion_matrix, accuracy_score, mean_squared_error, r2_score, roc_auc_score, roc_curve, classification_report\n",
    "from sklearn.linear_model import LogisticRegression\n",
    "from sklearn.neighbors import KNeighborsClassifier\n",
    "from sklearn.tree import DecisionTreeClassifier\n",
    "from sklearn.ensemble import RandomForestClassifier\n",
    "from sklearn.ensemble import GradientBoostingClassifier\n",
    "from lightgbm import LGBMClassifier\n",
    "from sklearn.model_selection import KFold\n",
    "from xgboost import XGBClassifier\n",
    "warnings.simplefilter(action=\"ignore\")\n"
   ]
  },
  {
   "cell_type": "markdown",
   "metadata": {
    "papermill": {
     "duration": 0.036894,
     "end_time": "2020-11-08T15:21:03.958086",
     "exception": false,
     "start_time": "2020-11-08T15:21:03.921192",
     "status": "completed"
    },
    "tags": []
   },
   "source": [
    "# &#128214; Read Data"
   ]
  },
  {
   "cell_type": "code",
   "execution_count": 3,
   "metadata": {
    "execution": {
     "iopub.execute_input": "2020-11-08T15:21:04.043469Z",
     "iopub.status.busy": "2020-11-08T15:21:04.042750Z",
     "iopub.status.idle": "2020-11-08T15:21:04.069060Z",
     "shell.execute_reply": "2020-11-08T15:21:04.068433Z"
    },
    "papermill": {
     "duration": 0.07403,
     "end_time": "2020-11-08T15:21:04.069170",
     "exception": false,
     "start_time": "2020-11-08T15:21:03.995140",
     "status": "completed"
    },
    "tags": []
   },
   "outputs": [
    {
     "data": {
      "text/html": [
       "<div>\n",
       "<style scoped>\n",
       "    .dataframe tbody tr th:only-of-type {\n",
       "        vertical-align: middle;\n",
       "    }\n",
       "\n",
       "    .dataframe tbody tr th {\n",
       "        vertical-align: top;\n",
       "    }\n",
       "\n",
       "    .dataframe thead th {\n",
       "        text-align: right;\n",
       "    }\n",
       "</style>\n",
       "<table border=\"1\" class=\"dataframe\">\n",
       "  <thead>\n",
       "    <tr style=\"text-align: right;\">\n",
       "      <th></th>\n",
       "      <th>Pregnancies</th>\n",
       "      <th>Glucose</th>\n",
       "      <th>BloodPressure</th>\n",
       "      <th>SkinThickness</th>\n",
       "      <th>Insulin</th>\n",
       "      <th>BMI</th>\n",
       "      <th>DiabetesPedigreeFunction</th>\n",
       "      <th>Age</th>\n",
       "      <th>Outcome</th>\n",
       "    </tr>\n",
       "  </thead>\n",
       "  <tbody>\n",
       "    <tr>\n",
       "      <th>0</th>\n",
       "      <td>6</td>\n",
       "      <td>148</td>\n",
       "      <td>72</td>\n",
       "      <td>35</td>\n",
       "      <td>0</td>\n",
       "      <td>33.6</td>\n",
       "      <td>0.627</td>\n",
       "      <td>50</td>\n",
       "      <td>1</td>\n",
       "    </tr>\n",
       "    <tr>\n",
       "      <th>1</th>\n",
       "      <td>1</td>\n",
       "      <td>85</td>\n",
       "      <td>66</td>\n",
       "      <td>29</td>\n",
       "      <td>0</td>\n",
       "      <td>26.6</td>\n",
       "      <td>0.351</td>\n",
       "      <td>31</td>\n",
       "      <td>0</td>\n",
       "    </tr>\n",
       "    <tr>\n",
       "      <th>2</th>\n",
       "      <td>8</td>\n",
       "      <td>183</td>\n",
       "      <td>64</td>\n",
       "      <td>0</td>\n",
       "      <td>0</td>\n",
       "      <td>23.3</td>\n",
       "      <td>0.672</td>\n",
       "      <td>32</td>\n",
       "      <td>1</td>\n",
       "    </tr>\n",
       "    <tr>\n",
       "      <th>3</th>\n",
       "      <td>1</td>\n",
       "      <td>89</td>\n",
       "      <td>66</td>\n",
       "      <td>23</td>\n",
       "      <td>94</td>\n",
       "      <td>28.1</td>\n",
       "      <td>0.167</td>\n",
       "      <td>21</td>\n",
       "      <td>0</td>\n",
       "    </tr>\n",
       "    <tr>\n",
       "      <th>4</th>\n",
       "      <td>0</td>\n",
       "      <td>137</td>\n",
       "      <td>40</td>\n",
       "      <td>35</td>\n",
       "      <td>168</td>\n",
       "      <td>43.1</td>\n",
       "      <td>2.288</td>\n",
       "      <td>33</td>\n",
       "      <td>1</td>\n",
       "    </tr>\n",
       "  </tbody>\n",
       "</table>\n",
       "</div>"
      ],
      "text/plain": [
       "   Pregnancies  Glucose  BloodPressure  SkinThickness  Insulin   BMI  \\\n",
       "0            6      148             72             35        0  33.6   \n",
       "1            1       85             66             29        0  26.6   \n",
       "2            8      183             64              0        0  23.3   \n",
       "3            1       89             66             23       94  28.1   \n",
       "4            0      137             40             35      168  43.1   \n",
       "\n",
       "   DiabetesPedigreeFunction  Age  Outcome  \n",
       "0                     0.627   50        1  \n",
       "1                     0.351   31        0  \n",
       "2                     0.672   32        1  \n",
       "3                     0.167   21        0  \n",
       "4                     2.288   33        1  "
      ]
     },
     "execution_count": 3,
     "metadata": {},
     "output_type": "execute_result"
    }
   ],
   "source": [
    "df = pd.read_csv(r\"../input/pima-indians-diabetes-database/diabetes.csv\")\n",
    "df.head()"
   ]
  },
  {
   "cell_type": "markdown",
   "metadata": {
    "papermill": {
     "duration": 0.037377,
     "end_time": "2020-11-08T15:21:04.144381",
     "exception": false,
     "start_time": "2020-11-08T15:21:04.107004",
     "status": "completed"
    },
    "tags": []
   },
   "source": [
    "## &#128270; Descriptive Statistics"
   ]
  },
  {
   "cell_type": "code",
   "execution_count": 4,
   "metadata": {
    "execution": {
     "iopub.execute_input": "2020-11-08T15:21:04.229101Z",
     "iopub.status.busy": "2020-11-08T15:21:04.228147Z",
     "iopub.status.idle": "2020-11-08T15:21:04.264574Z",
     "shell.execute_reply": "2020-11-08T15:21:04.264072Z"
    },
    "papermill": {
     "duration": 0.08244,
     "end_time": "2020-11-08T15:21:04.264692",
     "exception": false,
     "start_time": "2020-11-08T15:21:04.182252",
     "status": "completed"
    },
    "tags": []
   },
   "outputs": [
    {
     "data": {
      "text/html": [
       "<div>\n",
       "<style scoped>\n",
       "    .dataframe tbody tr th:only-of-type {\n",
       "        vertical-align: middle;\n",
       "    }\n",
       "\n",
       "    .dataframe tbody tr th {\n",
       "        vertical-align: top;\n",
       "    }\n",
       "\n",
       "    .dataframe thead th {\n",
       "        text-align: right;\n",
       "    }\n",
       "</style>\n",
       "<table border=\"1\" class=\"dataframe\">\n",
       "  <thead>\n",
       "    <tr style=\"text-align: right;\">\n",
       "      <th></th>\n",
       "      <th>count</th>\n",
       "      <th>mean</th>\n",
       "      <th>std</th>\n",
       "      <th>min</th>\n",
       "      <th>10%</th>\n",
       "      <th>25%</th>\n",
       "      <th>50%</th>\n",
       "      <th>75%</th>\n",
       "      <th>90%</th>\n",
       "      <th>95%</th>\n",
       "      <th>99%</th>\n",
       "      <th>max</th>\n",
       "    </tr>\n",
       "  </thead>\n",
       "  <tbody>\n",
       "    <tr>\n",
       "      <th>Pregnancies</th>\n",
       "      <td>768.0</td>\n",
       "      <td>3.845052</td>\n",
       "      <td>3.369578</td>\n",
       "      <td>0.000</td>\n",
       "      <td>0.000</td>\n",
       "      <td>1.00000</td>\n",
       "      <td>3.0000</td>\n",
       "      <td>6.00000</td>\n",
       "      <td>9.0000</td>\n",
       "      <td>10.00000</td>\n",
       "      <td>13.00000</td>\n",
       "      <td>17.00</td>\n",
       "    </tr>\n",
       "    <tr>\n",
       "      <th>Glucose</th>\n",
       "      <td>768.0</td>\n",
       "      <td>120.894531</td>\n",
       "      <td>31.972618</td>\n",
       "      <td>0.000</td>\n",
       "      <td>85.000</td>\n",
       "      <td>99.00000</td>\n",
       "      <td>117.0000</td>\n",
       "      <td>140.25000</td>\n",
       "      <td>167.0000</td>\n",
       "      <td>181.00000</td>\n",
       "      <td>196.00000</td>\n",
       "      <td>199.00</td>\n",
       "    </tr>\n",
       "    <tr>\n",
       "      <th>BloodPressure</th>\n",
       "      <td>768.0</td>\n",
       "      <td>69.105469</td>\n",
       "      <td>19.355807</td>\n",
       "      <td>0.000</td>\n",
       "      <td>54.000</td>\n",
       "      <td>62.00000</td>\n",
       "      <td>72.0000</td>\n",
       "      <td>80.00000</td>\n",
       "      <td>88.0000</td>\n",
       "      <td>90.00000</td>\n",
       "      <td>106.00000</td>\n",
       "      <td>122.00</td>\n",
       "    </tr>\n",
       "    <tr>\n",
       "      <th>SkinThickness</th>\n",
       "      <td>768.0</td>\n",
       "      <td>20.536458</td>\n",
       "      <td>15.952218</td>\n",
       "      <td>0.000</td>\n",
       "      <td>0.000</td>\n",
       "      <td>0.00000</td>\n",
       "      <td>23.0000</td>\n",
       "      <td>32.00000</td>\n",
       "      <td>40.0000</td>\n",
       "      <td>44.00000</td>\n",
       "      <td>51.33000</td>\n",
       "      <td>99.00</td>\n",
       "    </tr>\n",
       "    <tr>\n",
       "      <th>Insulin</th>\n",
       "      <td>768.0</td>\n",
       "      <td>79.799479</td>\n",
       "      <td>115.244002</td>\n",
       "      <td>0.000</td>\n",
       "      <td>0.000</td>\n",
       "      <td>0.00000</td>\n",
       "      <td>30.5000</td>\n",
       "      <td>127.25000</td>\n",
       "      <td>210.0000</td>\n",
       "      <td>293.00000</td>\n",
       "      <td>519.90000</td>\n",
       "      <td>846.00</td>\n",
       "    </tr>\n",
       "    <tr>\n",
       "      <th>BMI</th>\n",
       "      <td>768.0</td>\n",
       "      <td>31.992578</td>\n",
       "      <td>7.884160</td>\n",
       "      <td>0.000</td>\n",
       "      <td>23.600</td>\n",
       "      <td>27.30000</td>\n",
       "      <td>32.0000</td>\n",
       "      <td>36.60000</td>\n",
       "      <td>41.5000</td>\n",
       "      <td>44.39500</td>\n",
       "      <td>50.75900</td>\n",
       "      <td>67.10</td>\n",
       "    </tr>\n",
       "    <tr>\n",
       "      <th>DiabetesPedigreeFunction</th>\n",
       "      <td>768.0</td>\n",
       "      <td>0.471876</td>\n",
       "      <td>0.331329</td>\n",
       "      <td>0.078</td>\n",
       "      <td>0.165</td>\n",
       "      <td>0.24375</td>\n",
       "      <td>0.3725</td>\n",
       "      <td>0.62625</td>\n",
       "      <td>0.8786</td>\n",
       "      <td>1.13285</td>\n",
       "      <td>1.69833</td>\n",
       "      <td>2.42</td>\n",
       "    </tr>\n",
       "    <tr>\n",
       "      <th>Age</th>\n",
       "      <td>768.0</td>\n",
       "      <td>33.240885</td>\n",
       "      <td>11.760232</td>\n",
       "      <td>21.000</td>\n",
       "      <td>22.000</td>\n",
       "      <td>24.00000</td>\n",
       "      <td>29.0000</td>\n",
       "      <td>41.00000</td>\n",
       "      <td>51.0000</td>\n",
       "      <td>58.00000</td>\n",
       "      <td>67.00000</td>\n",
       "      <td>81.00</td>\n",
       "    </tr>\n",
       "    <tr>\n",
       "      <th>Outcome</th>\n",
       "      <td>768.0</td>\n",
       "      <td>0.348958</td>\n",
       "      <td>0.476951</td>\n",
       "      <td>0.000</td>\n",
       "      <td>0.000</td>\n",
       "      <td>0.00000</td>\n",
       "      <td>0.0000</td>\n",
       "      <td>1.00000</td>\n",
       "      <td>1.0000</td>\n",
       "      <td>1.00000</td>\n",
       "      <td>1.00000</td>\n",
       "      <td>1.00</td>\n",
       "    </tr>\n",
       "  </tbody>\n",
       "</table>\n",
       "</div>"
      ],
      "text/plain": [
       "                          count        mean         std     min     10%  \\\n",
       "Pregnancies               768.0    3.845052    3.369578   0.000   0.000   \n",
       "Glucose                   768.0  120.894531   31.972618   0.000  85.000   \n",
       "BloodPressure             768.0   69.105469   19.355807   0.000  54.000   \n",
       "SkinThickness             768.0   20.536458   15.952218   0.000   0.000   \n",
       "Insulin                   768.0   79.799479  115.244002   0.000   0.000   \n",
       "BMI                       768.0   31.992578    7.884160   0.000  23.600   \n",
       "DiabetesPedigreeFunction  768.0    0.471876    0.331329   0.078   0.165   \n",
       "Age                       768.0   33.240885   11.760232  21.000  22.000   \n",
       "Outcome                   768.0    0.348958    0.476951   0.000   0.000   \n",
       "\n",
       "                               25%       50%        75%       90%        95%  \\\n",
       "Pregnancies                1.00000    3.0000    6.00000    9.0000   10.00000   \n",
       "Glucose                   99.00000  117.0000  140.25000  167.0000  181.00000   \n",
       "BloodPressure             62.00000   72.0000   80.00000   88.0000   90.00000   \n",
       "SkinThickness              0.00000   23.0000   32.00000   40.0000   44.00000   \n",
       "Insulin                    0.00000   30.5000  127.25000  210.0000  293.00000   \n",
       "BMI                       27.30000   32.0000   36.60000   41.5000   44.39500   \n",
       "DiabetesPedigreeFunction   0.24375    0.3725    0.62625    0.8786    1.13285   \n",
       "Age                       24.00000   29.0000   41.00000   51.0000   58.00000   \n",
       "Outcome                    0.00000    0.0000    1.00000    1.0000    1.00000   \n",
       "\n",
       "                                99%     max  \n",
       "Pregnancies                13.00000   17.00  \n",
       "Glucose                   196.00000  199.00  \n",
       "BloodPressure             106.00000  122.00  \n",
       "SkinThickness              51.33000   99.00  \n",
       "Insulin                   519.90000  846.00  \n",
       "BMI                        50.75900   67.10  \n",
       "DiabetesPedigreeFunction    1.69833    2.42  \n",
       "Age                        67.00000   81.00  \n",
       "Outcome                     1.00000    1.00  "
      ]
     },
     "execution_count": 4,
     "metadata": {},
     "output_type": "execute_result"
    }
   ],
   "source": [
    "df.describe([0.10, 0.25, 0.50, 0.75, 0.90, 0.95, 0.99]).T"
   ]
  },
  {
   "cell_type": "markdown",
   "metadata": {
    "papermill": {
     "duration": 0.038122,
     "end_time": "2020-11-08T15:21:04.341297",
     "exception": false,
     "start_time": "2020-11-08T15:21:04.303175",
     "status": "completed"
    },
    "tags": []
   },
   "source": [
    "<div class=\"alert alert-block alert-info\" style=\"margin-top: 20px\">\n",
    "\n",
    "<ul>\n",
    "<li><strong>pregnancies</strong> mean &gt; median, <strong>right skewed</strong> | <strong>99% quartile value:</strong> 13, <strong>max value:</strong> 17 <strong>might be outlier</strong></li>\n",
    "<li><strong>glucose</strong> mean &gt; median, <strong>right skewed</strong> | <strong>%99</strong> and <strong>max</strong> values close each other</li>\n",
    "<li><strong>bloodpressure</strong> mean = median nearly, looks <strong>gaussian distribution</strong>. There is a 16 units difference between <strong>%99</strong> and <strong>max value. might be outlier</strong></li>\n",
    "<li><strong>skinthickness</strong> mean &gt; median, <strong>right skewed</strong> | <strong>min value:</strong> 0 | <strong>99% quartile value:</strong> 51 <strong>max value:</strong> 99 <strong>there is outlier</strong></li>\n",
    "<li><strong>insulin</strong> mean(79) &gt; median(30), <strong>right skewed</strong> | <strong>min value:</strong> 0, <strong>99% quartile value:</strong> 519 <strong>max value:</strong> 846</li>\n",
    "<li><strong>BMI</strong> mean(31) =~ median(32), looks <strong>gaussian distribution</strong> | <strong>min value:</strong> 0 | <strong>99% quartile value:</strong> 50, <strong>max value:</strong> 67</li>\n",
    "<li><strong>DPF</strong> mean(0.47) &gt; median (0.37) | <strong>min value:</strong> 0.078 | <strong>99% quartile value:</strong> 1.69 <strong>max value:</strong> 2.42</li>\n",
    "<li><strong>Age</strong> mean(33)&gt;median(29) <strong>right skewed</strong> | <strong>min value:</strong> 21 | <strong>99% quartile value:</strong> 67 <strong>max value:</strong> 2.42</li>\n",
    "\n",
    "</ul>\n",
    "\n",
    "</div>"
   ]
  },
  {
   "cell_type": "code",
   "execution_count": 5,
   "metadata": {
    "execution": {
     "iopub.execute_input": "2020-11-08T15:21:04.423218Z",
     "iopub.status.busy": "2020-11-08T15:21:04.422478Z",
     "iopub.status.idle": "2020-11-08T15:21:04.425678Z",
     "shell.execute_reply": "2020-11-08T15:21:04.426198Z"
    },
    "papermill": {
     "duration": 0.046694,
     "end_time": "2020-11-08T15:21:04.426338",
     "exception": false,
     "start_time": "2020-11-08T15:21:04.379644",
     "status": "completed"
    },
    "tags": []
   },
   "outputs": [
    {
     "name": "stdout",
     "output_type": "stream",
     "text": [
      "There are 768 observation and 9 features \n"
     ]
    }
   ],
   "source": [
    "# Data Shape\n",
    "print(\"There are {} observation and {} features \".format(df.shape[0], df.shape[1]))"
   ]
  },
  {
   "cell_type": "markdown",
   "metadata": {
    "papermill": {
     "duration": 0.038028,
     "end_time": "2020-11-08T15:21:04.504646",
     "exception": false,
     "start_time": "2020-11-08T15:21:04.466618",
     "status": "completed"
    },
    "tags": []
   },
   "source": [
    "## &#128918; Target Variable Counts"
   ]
  },
  {
   "cell_type": "code",
   "execution_count": 6,
   "metadata": {
    "execution": {
     "iopub.execute_input": "2020-11-08T15:21:04.591083Z",
     "iopub.status.busy": "2020-11-08T15:21:04.590411Z",
     "iopub.status.idle": "2020-11-08T15:21:05.340238Z",
     "shell.execute_reply": "2020-11-08T15:21:05.339673Z"
    },
    "papermill": {
     "duration": 0.797396,
     "end_time": "2020-11-08T15:21:05.340351",
     "exception": false,
     "start_time": "2020-11-08T15:21:04.542955",
     "status": "completed"
    },
    "tags": []
   },
   "outputs": [
    {
     "data": {
      "application/vnd.plotly.v1+json": {
       "config": {
        "linkText": "Export to plot.ly",
        "plotlyServerURL": "https://plot.ly",
        "showLink": false
       },
       "data": [
        {
         "marker": {
          "color": [
           "#25B89B",
           "#C20E69"
          ],
          "line": {
           "color": "#FFFFFF",
           "width": 1.5
          }
         },
         "opacity": 0.8,
         "orientation": "h",
         "text": [
          "500",
          "268"
         ],
         "textfont": {
          "size": 20
         },
         "textposition": "auto",
         "type": "bar",
         "x": [
          500,
          268
         ],
         "y": [
          "healthy",
          "diabetic"
         ]
        }
       ],
       "layout": {
        "template": {
         "data": {
          "bar": [
           {
            "error_x": {
             "color": "#2a3f5f"
            },
            "error_y": {
             "color": "#2a3f5f"
            },
            "marker": {
             "line": {
              "color": "#E5ECF6",
              "width": 0.5
             }
            },
            "type": "bar"
           }
          ],
          "barpolar": [
           {
            "marker": {
             "line": {
              "color": "#E5ECF6",
              "width": 0.5
             }
            },
            "type": "barpolar"
           }
          ],
          "carpet": [
           {
            "aaxis": {
             "endlinecolor": "#2a3f5f",
             "gridcolor": "white",
             "linecolor": "white",
             "minorgridcolor": "white",
             "startlinecolor": "#2a3f5f"
            },
            "baxis": {
             "endlinecolor": "#2a3f5f",
             "gridcolor": "white",
             "linecolor": "white",
             "minorgridcolor": "white",
             "startlinecolor": "#2a3f5f"
            },
            "type": "carpet"
           }
          ],
          "choropleth": [
           {
            "colorbar": {
             "outlinewidth": 0,
             "ticks": ""
            },
            "type": "choropleth"
           }
          ],
          "contour": [
           {
            "colorbar": {
             "outlinewidth": 0,
             "ticks": ""
            },
            "colorscale": [
             [
              0,
              "#0d0887"
             ],
             [
              0.1111111111111111,
              "#46039f"
             ],
             [
              0.2222222222222222,
              "#7201a8"
             ],
             [
              0.3333333333333333,
              "#9c179e"
             ],
             [
              0.4444444444444444,
              "#bd3786"
             ],
             [
              0.5555555555555556,
              "#d8576b"
             ],
             [
              0.6666666666666666,
              "#ed7953"
             ],
             [
              0.7777777777777778,
              "#fb9f3a"
             ],
             [
              0.8888888888888888,
              "#fdca26"
             ],
             [
              1,
              "#f0f921"
             ]
            ],
            "type": "contour"
           }
          ],
          "contourcarpet": [
           {
            "colorbar": {
             "outlinewidth": 0,
             "ticks": ""
            },
            "type": "contourcarpet"
           }
          ],
          "heatmap": [
           {
            "colorbar": {
             "outlinewidth": 0,
             "ticks": ""
            },
            "colorscale": [
             [
              0,
              "#0d0887"
             ],
             [
              0.1111111111111111,
              "#46039f"
             ],
             [
              0.2222222222222222,
              "#7201a8"
             ],
             [
              0.3333333333333333,
              "#9c179e"
             ],
             [
              0.4444444444444444,
              "#bd3786"
             ],
             [
              0.5555555555555556,
              "#d8576b"
             ],
             [
              0.6666666666666666,
              "#ed7953"
             ],
             [
              0.7777777777777778,
              "#fb9f3a"
             ],
             [
              0.8888888888888888,
              "#fdca26"
             ],
             [
              1,
              "#f0f921"
             ]
            ],
            "type": "heatmap"
           }
          ],
          "heatmapgl": [
           {
            "colorbar": {
             "outlinewidth": 0,
             "ticks": ""
            },
            "colorscale": [
             [
              0,
              "#0d0887"
             ],
             [
              0.1111111111111111,
              "#46039f"
             ],
             [
              0.2222222222222222,
              "#7201a8"
             ],
             [
              0.3333333333333333,
              "#9c179e"
             ],
             [
              0.4444444444444444,
              "#bd3786"
             ],
             [
              0.5555555555555556,
              "#d8576b"
             ],
             [
              0.6666666666666666,
              "#ed7953"
             ],
             [
              0.7777777777777778,
              "#fb9f3a"
             ],
             [
              0.8888888888888888,
              "#fdca26"
             ],
             [
              1,
              "#f0f921"
             ]
            ],
            "type": "heatmapgl"
           }
          ],
          "histogram": [
           {
            "marker": {
             "colorbar": {
              "outlinewidth": 0,
              "ticks": ""
             }
            },
            "type": "histogram"
           }
          ],
          "histogram2d": [
           {
            "colorbar": {
             "outlinewidth": 0,
             "ticks": ""
            },
            "colorscale": [
             [
              0,
              "#0d0887"
             ],
             [
              0.1111111111111111,
              "#46039f"
             ],
             [
              0.2222222222222222,
              "#7201a8"
             ],
             [
              0.3333333333333333,
              "#9c179e"
             ],
             [
              0.4444444444444444,
              "#bd3786"
             ],
             [
              0.5555555555555556,
              "#d8576b"
             ],
             [
              0.6666666666666666,
              "#ed7953"
             ],
             [
              0.7777777777777778,
              "#fb9f3a"
             ],
             [
              0.8888888888888888,
              "#fdca26"
             ],
             [
              1,
              "#f0f921"
             ]
            ],
            "type": "histogram2d"
           }
          ],
          "histogram2dcontour": [
           {
            "colorbar": {
             "outlinewidth": 0,
             "ticks": ""
            },
            "colorscale": [
             [
              0,
              "#0d0887"
             ],
             [
              0.1111111111111111,
              "#46039f"
             ],
             [
              0.2222222222222222,
              "#7201a8"
             ],
             [
              0.3333333333333333,
              "#9c179e"
             ],
             [
              0.4444444444444444,
              "#bd3786"
             ],
             [
              0.5555555555555556,
              "#d8576b"
             ],
             [
              0.6666666666666666,
              "#ed7953"
             ],
             [
              0.7777777777777778,
              "#fb9f3a"
             ],
             [
              0.8888888888888888,
              "#fdca26"
             ],
             [
              1,
              "#f0f921"
             ]
            ],
            "type": "histogram2dcontour"
           }
          ],
          "mesh3d": [
           {
            "colorbar": {
             "outlinewidth": 0,
             "ticks": ""
            },
            "type": "mesh3d"
           }
          ],
          "parcoords": [
           {
            "line": {
             "colorbar": {
              "outlinewidth": 0,
              "ticks": ""
             }
            },
            "type": "parcoords"
           }
          ],
          "pie": [
           {
            "automargin": true,
            "type": "pie"
           }
          ],
          "scatter": [
           {
            "marker": {
             "colorbar": {
              "outlinewidth": 0,
              "ticks": ""
             }
            },
            "type": "scatter"
           }
          ],
          "scatter3d": [
           {
            "line": {
             "colorbar": {
              "outlinewidth": 0,
              "ticks": ""
             }
            },
            "marker": {
             "colorbar": {
              "outlinewidth": 0,
              "ticks": ""
             }
            },
            "type": "scatter3d"
           }
          ],
          "scattercarpet": [
           {
            "marker": {
             "colorbar": {
              "outlinewidth": 0,
              "ticks": ""
             }
            },
            "type": "scattercarpet"
           }
          ],
          "scattergeo": [
           {
            "marker": {
             "colorbar": {
              "outlinewidth": 0,
              "ticks": ""
             }
            },
            "type": "scattergeo"
           }
          ],
          "scattergl": [
           {
            "marker": {
             "colorbar": {
              "outlinewidth": 0,
              "ticks": ""
             }
            },
            "type": "scattergl"
           }
          ],
          "scattermapbox": [
           {
            "marker": {
             "colorbar": {
              "outlinewidth": 0,
              "ticks": ""
             }
            },
            "type": "scattermapbox"
           }
          ],
          "scatterpolar": [
           {
            "marker": {
             "colorbar": {
              "outlinewidth": 0,
              "ticks": ""
             }
            },
            "type": "scatterpolar"
           }
          ],
          "scatterpolargl": [
           {
            "marker": {
             "colorbar": {
              "outlinewidth": 0,
              "ticks": ""
             }
            },
            "type": "scatterpolargl"
           }
          ],
          "scatterternary": [
           {
            "marker": {
             "colorbar": {
              "outlinewidth": 0,
              "ticks": ""
             }
            },
            "type": "scatterternary"
           }
          ],
          "surface": [
           {
            "colorbar": {
             "outlinewidth": 0,
             "ticks": ""
            },
            "colorscale": [
             [
              0,
              "#0d0887"
             ],
             [
              0.1111111111111111,
              "#46039f"
             ],
             [
              0.2222222222222222,
              "#7201a8"
             ],
             [
              0.3333333333333333,
              "#9c179e"
             ],
             [
              0.4444444444444444,
              "#bd3786"
             ],
             [
              0.5555555555555556,
              "#d8576b"
             ],
             [
              0.6666666666666666,
              "#ed7953"
             ],
             [
              0.7777777777777778,
              "#fb9f3a"
             ],
             [
              0.8888888888888888,
              "#fdca26"
             ],
             [
              1,
              "#f0f921"
             ]
            ],
            "type": "surface"
           }
          ],
          "table": [
           {
            "cells": {
             "fill": {
              "color": "#EBF0F8"
             },
             "line": {
              "color": "white"
             }
            },
            "header": {
             "fill": {
              "color": "#C8D4E3"
             },
             "line": {
              "color": "white"
             }
            },
            "type": "table"
           }
          ]
         },
         "layout": {
          "annotationdefaults": {
           "arrowcolor": "#2a3f5f",
           "arrowhead": 0,
           "arrowwidth": 1
          },
          "coloraxis": {
           "colorbar": {
            "outlinewidth": 0,
            "ticks": ""
           }
          },
          "colorscale": {
           "diverging": [
            [
             0,
             "#8e0152"
            ],
            [
             0.1,
             "#c51b7d"
            ],
            [
             0.2,
             "#de77ae"
            ],
            [
             0.3,
             "#f1b6da"
            ],
            [
             0.4,
             "#fde0ef"
            ],
            [
             0.5,
             "#f7f7f7"
            ],
            [
             0.6,
             "#e6f5d0"
            ],
            [
             0.7,
             "#b8e186"
            ],
            [
             0.8,
             "#7fbc41"
            ],
            [
             0.9,
             "#4d9221"
            ],
            [
             1,
             "#276419"
            ]
           ],
           "sequential": [
            [
             0,
             "#0d0887"
            ],
            [
             0.1111111111111111,
             "#46039f"
            ],
            [
             0.2222222222222222,
             "#7201a8"
            ],
            [
             0.3333333333333333,
             "#9c179e"
            ],
            [
             0.4444444444444444,
             "#bd3786"
            ],
            [
             0.5555555555555556,
             "#d8576b"
            ],
            [
             0.6666666666666666,
             "#ed7953"
            ],
            [
             0.7777777777777778,
             "#fb9f3a"
            ],
            [
             0.8888888888888888,
             "#fdca26"
            ],
            [
             1,
             "#f0f921"
            ]
           ],
           "sequentialminus": [
            [
             0,
             "#0d0887"
            ],
            [
             0.1111111111111111,
             "#46039f"
            ],
            [
             0.2222222222222222,
             "#7201a8"
            ],
            [
             0.3333333333333333,
             "#9c179e"
            ],
            [
             0.4444444444444444,
             "#bd3786"
            ],
            [
             0.5555555555555556,
             "#d8576b"
            ],
            [
             0.6666666666666666,
             "#ed7953"
            ],
            [
             0.7777777777777778,
             "#fb9f3a"
            ],
            [
             0.8888888888888888,
             "#fdca26"
            ],
            [
             1,
             "#f0f921"
            ]
           ]
          },
          "colorway": [
           "#636efa",
           "#EF553B",
           "#00cc96",
           "#ab63fa",
           "#FFA15A",
           "#19d3f3",
           "#FF6692",
           "#B6E880",
           "#FF97FF",
           "#FECB52"
          ],
          "font": {
           "color": "#2a3f5f"
          },
          "geo": {
           "bgcolor": "white",
           "lakecolor": "white",
           "landcolor": "#E5ECF6",
           "showlakes": true,
           "showland": true,
           "subunitcolor": "white"
          },
          "hoverlabel": {
           "align": "left"
          },
          "hovermode": "closest",
          "mapbox": {
           "style": "light"
          },
          "paper_bgcolor": "white",
          "plot_bgcolor": "#E5ECF6",
          "polar": {
           "angularaxis": {
            "gridcolor": "white",
            "linecolor": "white",
            "ticks": ""
           },
           "bgcolor": "#E5ECF6",
           "radialaxis": {
            "gridcolor": "white",
            "linecolor": "white",
            "ticks": ""
           }
          },
          "scene": {
           "xaxis": {
            "backgroundcolor": "#E5ECF6",
            "gridcolor": "white",
            "gridwidth": 2,
            "linecolor": "white",
            "showbackground": true,
            "ticks": "",
            "zerolinecolor": "white"
           },
           "yaxis": {
            "backgroundcolor": "#E5ECF6",
            "gridcolor": "white",
            "gridwidth": 2,
            "linecolor": "white",
            "showbackground": true,
            "ticks": "",
            "zerolinecolor": "white"
           },
           "zaxis": {
            "backgroundcolor": "#E5ECF6",
            "gridcolor": "white",
            "gridwidth": 2,
            "linecolor": "white",
            "showbackground": true,
            "ticks": "",
            "zerolinecolor": "white"
           }
          },
          "shapedefaults": {
           "line": {
            "color": "#2a3f5f"
           }
          },
          "ternary": {
           "aaxis": {
            "gridcolor": "white",
            "linecolor": "white",
            "ticks": ""
           },
           "baxis": {
            "gridcolor": "white",
            "linecolor": "white",
            "ticks": ""
           },
           "bgcolor": "#E5ECF6",
           "caxis": {
            "gridcolor": "white",
            "linecolor": "white",
            "ticks": ""
           }
          },
          "title": {
           "x": 0.05
          },
          "xaxis": {
           "automargin": true,
           "gridcolor": "white",
           "linecolor": "white",
           "ticks": "",
           "title": {
            "standoff": 15
           },
           "zerolinecolor": "white",
           "zerolinewidth": 2
          },
          "yaxis": {
           "automargin": true,
           "gridcolor": "white",
           "linecolor": "white",
           "ticks": "",
           "title": {
            "standoff": 15
           },
           "zerolinecolor": "white",
           "zerolinewidth": 2
          }
         }
        },
        "title": {
         "text": "Count of Outcome variable"
        }
       }
      },
      "text/html": [
       "<div>                            <div id=\"02953c84-060e-4565-9817-8a9abadd26b5\" class=\"plotly-graph-div\" style=\"height:525px; width:100%;\"></div>            <script type=\"text/javascript\">                require([\"plotly\"], function(Plotly) {                    window.PLOTLYENV=window.PLOTLYENV || {};                                    if (document.getElementById(\"02953c84-060e-4565-9817-8a9abadd26b5\")) {                    Plotly.newPlot(                        \"02953c84-060e-4565-9817-8a9abadd26b5\",                        [{\"marker\": {\"color\": [\"#25B89B\", \"#C20E69\"], \"line\": {\"color\": \"#FFFFFF\", \"width\": 1.5}}, \"opacity\": 0.8, \"orientation\": \"h\", \"text\": [\"500\", \"268\"], \"textfont\": {\"size\": 20}, \"textposition\": \"auto\", \"type\": \"bar\", \"x\": [500, 268], \"y\": [\"healthy\", \"diabetic\"]}],                        {\"template\": {\"data\": {\"bar\": [{\"error_x\": {\"color\": \"#2a3f5f\"}, \"error_y\": {\"color\": \"#2a3f5f\"}, \"marker\": {\"line\": {\"color\": \"#E5ECF6\", \"width\": 0.5}}, \"type\": \"bar\"}], \"barpolar\": [{\"marker\": {\"line\": {\"color\": \"#E5ECF6\", \"width\": 0.5}}, \"type\": \"barpolar\"}], \"carpet\": [{\"aaxis\": {\"endlinecolor\": \"#2a3f5f\", \"gridcolor\": \"white\", \"linecolor\": \"white\", \"minorgridcolor\": \"white\", \"startlinecolor\": \"#2a3f5f\"}, \"baxis\": {\"endlinecolor\": \"#2a3f5f\", \"gridcolor\": \"white\", \"linecolor\": \"white\", \"minorgridcolor\": \"white\", \"startlinecolor\": \"#2a3f5f\"}, \"type\": \"carpet\"}], \"choropleth\": [{\"colorbar\": {\"outlinewidth\": 0, \"ticks\": \"\"}, \"type\": \"choropleth\"}], \"contour\": [{\"colorbar\": {\"outlinewidth\": 0, \"ticks\": \"\"}, \"colorscale\": [[0.0, \"#0d0887\"], [0.1111111111111111, \"#46039f\"], [0.2222222222222222, \"#7201a8\"], [0.3333333333333333, \"#9c179e\"], [0.4444444444444444, \"#bd3786\"], [0.5555555555555556, \"#d8576b\"], [0.6666666666666666, \"#ed7953\"], [0.7777777777777778, \"#fb9f3a\"], [0.8888888888888888, \"#fdca26\"], [1.0, \"#f0f921\"]], \"type\": \"contour\"}], \"contourcarpet\": [{\"colorbar\": {\"outlinewidth\": 0, \"ticks\": \"\"}, \"type\": \"contourcarpet\"}], \"heatmap\": [{\"colorbar\": {\"outlinewidth\": 0, \"ticks\": \"\"}, \"colorscale\": [[0.0, \"#0d0887\"], [0.1111111111111111, \"#46039f\"], [0.2222222222222222, \"#7201a8\"], [0.3333333333333333, \"#9c179e\"], [0.4444444444444444, \"#bd3786\"], [0.5555555555555556, \"#d8576b\"], [0.6666666666666666, \"#ed7953\"], [0.7777777777777778, \"#fb9f3a\"], [0.8888888888888888, \"#fdca26\"], [1.0, \"#f0f921\"]], \"type\": \"heatmap\"}], \"heatmapgl\": [{\"colorbar\": {\"outlinewidth\": 0, \"ticks\": \"\"}, \"colorscale\": [[0.0, \"#0d0887\"], [0.1111111111111111, \"#46039f\"], [0.2222222222222222, \"#7201a8\"], [0.3333333333333333, \"#9c179e\"], [0.4444444444444444, \"#bd3786\"], [0.5555555555555556, \"#d8576b\"], [0.6666666666666666, \"#ed7953\"], [0.7777777777777778, \"#fb9f3a\"], [0.8888888888888888, \"#fdca26\"], [1.0, \"#f0f921\"]], \"type\": \"heatmapgl\"}], \"histogram\": [{\"marker\": {\"colorbar\": {\"outlinewidth\": 0, \"ticks\": \"\"}}, \"type\": \"histogram\"}], \"histogram2d\": [{\"colorbar\": {\"outlinewidth\": 0, \"ticks\": \"\"}, \"colorscale\": [[0.0, \"#0d0887\"], [0.1111111111111111, \"#46039f\"], [0.2222222222222222, \"#7201a8\"], [0.3333333333333333, \"#9c179e\"], [0.4444444444444444, \"#bd3786\"], [0.5555555555555556, \"#d8576b\"], [0.6666666666666666, \"#ed7953\"], [0.7777777777777778, \"#fb9f3a\"], [0.8888888888888888, \"#fdca26\"], [1.0, \"#f0f921\"]], \"type\": \"histogram2d\"}], \"histogram2dcontour\": [{\"colorbar\": {\"outlinewidth\": 0, \"ticks\": \"\"}, \"colorscale\": [[0.0, \"#0d0887\"], [0.1111111111111111, \"#46039f\"], [0.2222222222222222, \"#7201a8\"], [0.3333333333333333, \"#9c179e\"], [0.4444444444444444, \"#bd3786\"], [0.5555555555555556, \"#d8576b\"], [0.6666666666666666, \"#ed7953\"], [0.7777777777777778, \"#fb9f3a\"], [0.8888888888888888, \"#fdca26\"], [1.0, \"#f0f921\"]], \"type\": \"histogram2dcontour\"}], \"mesh3d\": [{\"colorbar\": {\"outlinewidth\": 0, \"ticks\": \"\"}, \"type\": \"mesh3d\"}], \"parcoords\": [{\"line\": {\"colorbar\": {\"outlinewidth\": 0, \"ticks\": \"\"}}, \"type\": \"parcoords\"}], \"pie\": [{\"automargin\": true, \"type\": \"pie\"}], \"scatter\": [{\"marker\": {\"colorbar\": {\"outlinewidth\": 0, \"ticks\": \"\"}}, \"type\": \"scatter\"}], \"scatter3d\": [{\"line\": {\"colorbar\": {\"outlinewidth\": 0, \"ticks\": \"\"}}, \"marker\": {\"colorbar\": {\"outlinewidth\": 0, \"ticks\": \"\"}}, \"type\": \"scatter3d\"}], \"scattercarpet\": [{\"marker\": {\"colorbar\": {\"outlinewidth\": 0, \"ticks\": \"\"}}, \"type\": \"scattercarpet\"}], \"scattergeo\": [{\"marker\": {\"colorbar\": {\"outlinewidth\": 0, \"ticks\": \"\"}}, \"type\": \"scattergeo\"}], \"scattergl\": [{\"marker\": {\"colorbar\": {\"outlinewidth\": 0, \"ticks\": \"\"}}, \"type\": \"scattergl\"}], \"scattermapbox\": [{\"marker\": {\"colorbar\": {\"outlinewidth\": 0, \"ticks\": \"\"}}, \"type\": \"scattermapbox\"}], \"scatterpolar\": [{\"marker\": {\"colorbar\": {\"outlinewidth\": 0, \"ticks\": \"\"}}, \"type\": \"scatterpolar\"}], \"scatterpolargl\": [{\"marker\": {\"colorbar\": {\"outlinewidth\": 0, \"ticks\": \"\"}}, \"type\": \"scatterpolargl\"}], \"scatterternary\": [{\"marker\": {\"colorbar\": {\"outlinewidth\": 0, \"ticks\": \"\"}}, \"type\": \"scatterternary\"}], \"surface\": [{\"colorbar\": {\"outlinewidth\": 0, \"ticks\": \"\"}, \"colorscale\": [[0.0, \"#0d0887\"], [0.1111111111111111, \"#46039f\"], [0.2222222222222222, \"#7201a8\"], [0.3333333333333333, \"#9c179e\"], [0.4444444444444444, \"#bd3786\"], [0.5555555555555556, \"#d8576b\"], [0.6666666666666666, \"#ed7953\"], [0.7777777777777778, \"#fb9f3a\"], [0.8888888888888888, \"#fdca26\"], [1.0, \"#f0f921\"]], \"type\": \"surface\"}], \"table\": [{\"cells\": {\"fill\": {\"color\": \"#EBF0F8\"}, \"line\": {\"color\": \"white\"}}, \"header\": {\"fill\": {\"color\": \"#C8D4E3\"}, \"line\": {\"color\": \"white\"}}, \"type\": \"table\"}]}, \"layout\": {\"annotationdefaults\": {\"arrowcolor\": \"#2a3f5f\", \"arrowhead\": 0, \"arrowwidth\": 1}, \"coloraxis\": {\"colorbar\": {\"outlinewidth\": 0, \"ticks\": \"\"}}, \"colorscale\": {\"diverging\": [[0, \"#8e0152\"], [0.1, \"#c51b7d\"], [0.2, \"#de77ae\"], [0.3, \"#f1b6da\"], [0.4, \"#fde0ef\"], [0.5, \"#f7f7f7\"], [0.6, \"#e6f5d0\"], [0.7, \"#b8e186\"], [0.8, \"#7fbc41\"], [0.9, \"#4d9221\"], [1, \"#276419\"]], \"sequential\": [[0.0, \"#0d0887\"], [0.1111111111111111, \"#46039f\"], [0.2222222222222222, \"#7201a8\"], [0.3333333333333333, \"#9c179e\"], [0.4444444444444444, \"#bd3786\"], [0.5555555555555556, \"#d8576b\"], [0.6666666666666666, \"#ed7953\"], [0.7777777777777778, \"#fb9f3a\"], [0.8888888888888888, \"#fdca26\"], [1.0, \"#f0f921\"]], \"sequentialminus\": [[0.0, \"#0d0887\"], [0.1111111111111111, \"#46039f\"], [0.2222222222222222, \"#7201a8\"], [0.3333333333333333, \"#9c179e\"], [0.4444444444444444, \"#bd3786\"], [0.5555555555555556, \"#d8576b\"], [0.6666666666666666, \"#ed7953\"], [0.7777777777777778, \"#fb9f3a\"], [0.8888888888888888, \"#fdca26\"], [1.0, \"#f0f921\"]]}, \"colorway\": [\"#636efa\", \"#EF553B\", \"#00cc96\", \"#ab63fa\", \"#FFA15A\", \"#19d3f3\", \"#FF6692\", \"#B6E880\", \"#FF97FF\", \"#FECB52\"], \"font\": {\"color\": \"#2a3f5f\"}, \"geo\": {\"bgcolor\": \"white\", \"lakecolor\": \"white\", \"landcolor\": \"#E5ECF6\", \"showlakes\": true, \"showland\": true, \"subunitcolor\": \"white\"}, \"hoverlabel\": {\"align\": \"left\"}, \"hovermode\": \"closest\", \"mapbox\": {\"style\": \"light\"}, \"paper_bgcolor\": \"white\", \"plot_bgcolor\": \"#E5ECF6\", \"polar\": {\"angularaxis\": {\"gridcolor\": \"white\", \"linecolor\": \"white\", \"ticks\": \"\"}, \"bgcolor\": \"#E5ECF6\", \"radialaxis\": {\"gridcolor\": \"white\", \"linecolor\": \"white\", \"ticks\": \"\"}}, \"scene\": {\"xaxis\": {\"backgroundcolor\": \"#E5ECF6\", \"gridcolor\": \"white\", \"gridwidth\": 2, \"linecolor\": \"white\", \"showbackground\": true, \"ticks\": \"\", \"zerolinecolor\": \"white\"}, \"yaxis\": {\"backgroundcolor\": \"#E5ECF6\", \"gridcolor\": \"white\", \"gridwidth\": 2, \"linecolor\": \"white\", \"showbackground\": true, \"ticks\": \"\", \"zerolinecolor\": \"white\"}, \"zaxis\": {\"backgroundcolor\": \"#E5ECF6\", \"gridcolor\": \"white\", \"gridwidth\": 2, \"linecolor\": \"white\", \"showbackground\": true, \"ticks\": \"\", \"zerolinecolor\": \"white\"}}, \"shapedefaults\": {\"line\": {\"color\": \"#2a3f5f\"}}, \"ternary\": {\"aaxis\": {\"gridcolor\": \"white\", \"linecolor\": \"white\", \"ticks\": \"\"}, \"baxis\": {\"gridcolor\": \"white\", \"linecolor\": \"white\", \"ticks\": \"\"}, \"bgcolor\": \"#E5ECF6\", \"caxis\": {\"gridcolor\": \"white\", \"linecolor\": \"white\", \"ticks\": \"\"}}, \"title\": {\"x\": 0.05}, \"xaxis\": {\"automargin\": true, \"gridcolor\": \"white\", \"linecolor\": \"white\", \"ticks\": \"\", \"title\": {\"standoff\": 15}, \"zerolinecolor\": \"white\", \"zerolinewidth\": 2}, \"yaxis\": {\"automargin\": true, \"gridcolor\": \"white\", \"linecolor\": \"white\", \"ticks\": \"\", \"title\": {\"standoff\": 15}, \"zerolinecolor\": \"white\", \"zerolinewidth\": 2}}}, \"title\": {\"text\": \"Count of Outcome variable\"}},                        {\"responsive\": true}                    ).then(function(){\n",
       "                            \n",
       "var gd = document.getElementById('02953c84-060e-4565-9817-8a9abadd26b5');\n",
       "var x = new MutationObserver(function (mutations, observer) {{\n",
       "        var display = window.getComputedStyle(gd).display;\n",
       "        if (!display || display === 'none') {{\n",
       "            console.log([gd, 'removed!']);\n",
       "            Plotly.purge(gd);\n",
       "            observer.disconnect();\n",
       "        }}\n",
       "}});\n",
       "\n",
       "// Listen for the removal of the full notebook cells\n",
       "var notebookContainer = gd.closest('#notebook-container');\n",
       "if (notebookContainer) {{\n",
       "    x.observe(notebookContainer, {childList: true});\n",
       "}}\n",
       "\n",
       "// Listen for the clearing of the current output cell\n",
       "var outputEl = gd.closest('.output');\n",
       "if (outputEl) {{\n",
       "    x.observe(outputEl, {childList: true});\n",
       "}}\n",
       "\n",
       "                        })                };                });            </script>        </div>"
      ]
     },
     "metadata": {},
     "output_type": "display_data"
    }
   ],
   "source": [
    "#------------COUNT-----------------------\n",
    "def target_count():\n",
    "    trace = go.Bar( x = df['Outcome'].value_counts().values.tolist(), \n",
    "                    y = ['healthy','diabetic' ], \n",
    "                    orientation = 'h', \n",
    "                    text=df['Outcome'].value_counts().values.tolist(), \n",
    "                    textfont=dict(size=20),\n",
    "                    textposition = 'auto',\n",
    "                    opacity = 0.8,marker=dict(\n",
    "                    color=['#25B89B', '#C20E69'],\n",
    "                    line=dict(color='#FFFFFF',width=1.5)))\n",
    "\n",
    "    layout = dict(title =  'Count of Outcome variable')\n",
    "\n",
    "    fig = dict(data = [trace], layout=layout)\n",
    "    py.iplot(fig)\n",
    "target_count()"
   ]
  },
  {
   "cell_type": "markdown",
   "metadata": {
    "papermill": {
     "duration": 0.04339,
     "end_time": "2020-11-08T15:21:05.428979",
     "exception": false,
     "start_time": "2020-11-08T15:21:05.385589",
     "status": "completed"
    },
    "tags": []
   },
   "source": [
    "## &#9703; Categorical & Numerical Columns"
   ]
  },
  {
   "cell_type": "code",
   "execution_count": 7,
   "metadata": {
    "execution": {
     "iopub.execute_input": "2020-11-08T15:21:05.546881Z",
     "iopub.status.busy": "2020-11-08T15:21:05.545441Z",
     "iopub.status.idle": "2020-11-08T15:21:05.551675Z",
     "shell.execute_reply": "2020-11-08T15:21:05.552406Z"
    },
    "papermill": {
     "duration": 0.06919,
     "end_time": "2020-11-08T15:21:05.552604",
     "exception": false,
     "start_time": "2020-11-08T15:21:05.483414",
     "status": "completed"
    },
    "tags": []
   },
   "outputs": [
    {
     "name": "stdout",
     "output_type": "stream",
     "text": [
      "There is not Categorical Column\n",
      "Number of Numerical Columns:  9 \n",
      " ['Pregnancies', 'Glucose', 'BloodPressure', 'SkinThickness', 'Insulin', 'BMI', 'DiabetesPedigreeFunction', 'Age', 'Outcome']\n"
     ]
    }
   ],
   "source": [
    "def cols():\n",
    "    cat_cols = [col for col in df.columns if df[col].dtypes == \"O\"]\n",
    "    if len(cat_cols) == 0:\n",
    "        print(\"There is not Categorical Column\")\n",
    "    else:\n",
    "        print(\"Number of Categorical Column: \", len(cat_cols),\"\\n\",cat_cols)\n",
    "    \n",
    "    num_cols = [col for col in df.columns if df[col].dtypes != \"O\"]\n",
    "    if len(num_cols) == 0:\n",
    "        print(\"There is not Numerical Column\")\n",
    "    print(\"Number of Numerical Columns: \", len(num_cols),\"\\n\",num_cols)\n",
    "cols()"
   ]
  },
  {
   "cell_type": "markdown",
   "metadata": {
    "papermill": {
     "duration": 0.044574,
     "end_time": "2020-11-08T15:21:05.659351",
     "exception": false,
     "start_time": "2020-11-08T15:21:05.614777",
     "status": "completed"
    },
    "tags": []
   },
   "source": [
    "# &#128270; Missing Values"
   ]
  },
  {
   "cell_type": "markdown",
   "metadata": {
    "papermill": {
     "duration": 0.044165,
     "end_time": "2020-11-08T15:21:05.747684",
     "exception": false,
     "start_time": "2020-11-08T15:21:05.703519",
     "status": "completed"
    },
    "tags": []
   },
   "source": [
    "<div class=\"alert alert-danger\" role=\"alert\">\n",
    "    In this data set <b>NA</b> are filled with 0\n",
    "</div>"
   ]
  },
  {
   "cell_type": "code",
   "execution_count": 8,
   "metadata": {
    "execution": {
     "iopub.execute_input": "2020-11-08T15:21:05.845454Z",
     "iopub.status.busy": "2020-11-08T15:21:05.844726Z",
     "iopub.status.idle": "2020-11-08T15:21:05.847435Z",
     "shell.execute_reply": "2020-11-08T15:21:05.846912Z"
    },
    "papermill": {
     "duration": 0.055719,
     "end_time": "2020-11-08T15:21:05.847552",
     "exception": false,
     "start_time": "2020-11-08T15:21:05.791833",
     "status": "completed"
    },
    "tags": []
   },
   "outputs": [],
   "source": [
    "# Missing Values Table Function\n",
    "def missing_values_table(dataframe):\n",
    "    \n",
    "    variables_with_na = [col for col in dataframe.columns if dataframe[col].isnull().sum() > 0]\n",
    "    n_miss = dataframe[variables_with_na].isnull().sum().sort_values(ascending=False)\n",
    "    ratio = (dataframe[variables_with_na].isnull().sum() / dataframe.shape[0] * 100).sort_values(ascending=False)\n",
    "    dtypes = dataframe.dtypes\n",
    "    dtypesna = dtypes.loc[(np.sum(dataframe.isnull()) != 0)]\n",
    "    missing_df = pd.concat([n_miss, np.round(ratio, 2), dtypesna], axis=1, keys=['n_miss', 'ratio', 'type'])\n",
    "    if len(missing_df)>0:\n",
    "        print(missing_df)\n",
    "        print(\"\\nThere are {} columns with missing values\\n\".format(len(missing_df)))\n",
    "    else:\n",
    "        print(\"\\nThere is no missing value\") \n",
    "\n"
   ]
  },
  {
   "cell_type": "code",
   "execution_count": 9,
   "metadata": {
    "execution": {
     "iopub.execute_input": "2020-11-08T15:21:05.949634Z",
     "iopub.status.busy": "2020-11-08T15:21:05.948889Z",
     "iopub.status.idle": "2020-11-08T15:21:05.952141Z",
     "shell.execute_reply": "2020-11-08T15:21:05.951574Z"
    },
    "papermill": {
     "duration": 0.060408,
     "end_time": "2020-11-08T15:21:05.952264",
     "exception": false,
     "start_time": "2020-11-08T15:21:05.891856",
     "status": "completed"
    },
    "tags": []
   },
   "outputs": [
    {
     "name": "stdout",
     "output_type": "stream",
     "text": [
      "\n",
      "There is no missing value\n"
     ]
    }
   ],
   "source": [
    "missing_values_table(df)"
   ]
  },
  {
   "cell_type": "code",
   "execution_count": 10,
   "metadata": {
    "execution": {
     "iopub.execute_input": "2020-11-08T15:21:06.050823Z",
     "iopub.status.busy": "2020-11-08T15:21:06.049998Z",
     "iopub.status.idle": "2020-11-08T15:21:06.053794Z",
     "shell.execute_reply": "2020-11-08T15:21:06.053307Z"
    },
    "papermill": {
     "duration": 0.057009,
     "end_time": "2020-11-08T15:21:06.053907",
     "exception": false,
     "start_time": "2020-11-08T15:21:05.996898",
     "status": "completed"
    },
    "tags": []
   },
   "outputs": [],
   "source": [
    "# This features can not be 0!\n",
    "missing = [\"Glucose\", \"BMI\", \"BloodPressure\", \"SkinThickness\", \"Insulin\"]\n",
    "\n",
    "for i in missing:\n",
    "    df[i] = np.where(df[i] == 0, np.nan, df[i])"
   ]
  },
  {
   "cell_type": "code",
   "execution_count": 11,
   "metadata": {
    "execution": {
     "iopub.execute_input": "2020-11-08T15:21:06.153166Z",
     "iopub.status.busy": "2020-11-08T15:21:06.152183Z",
     "iopub.status.idle": "2020-11-08T15:21:06.165631Z",
     "shell.execute_reply": "2020-11-08T15:21:06.165097Z"
    },
    "papermill": {
     "duration": 0.066586,
     "end_time": "2020-11-08T15:21:06.165752",
     "exception": false,
     "start_time": "2020-11-08T15:21:06.099166",
     "status": "completed"
    },
    "tags": []
   },
   "outputs": [
    {
     "name": "stdout",
     "output_type": "stream",
     "text": [
      "               n_miss  ratio     type\n",
      "Insulin           374  48.70  float64\n",
      "SkinThickness     227  29.56  float64\n",
      "BloodPressure      35   4.56  float64\n",
      "BMI                11   1.43  float64\n",
      "Glucose             5   0.65  float64\n",
      "\n",
      "There are 5 columns with missing values\n",
      "\n"
     ]
    }
   ],
   "source": [
    "missing_values_table(df)"
   ]
  },
  {
   "cell_type": "markdown",
   "metadata": {
    "papermill": {
     "duration": 0.045469,
     "end_time": "2020-11-08T15:21:06.257128",
     "exception": false,
     "start_time": "2020-11-08T15:21:06.211659",
     "status": "completed"
    },
    "tags": []
   },
   "source": [
    "## &#9850; Filling NA Values"
   ]
  },
  {
   "cell_type": "code",
   "execution_count": 12,
   "metadata": {
    "execution": {
     "iopub.execute_input": "2020-11-08T15:21:06.355314Z",
     "iopub.status.busy": "2020-11-08T15:21:06.354385Z",
     "iopub.status.idle": "2020-11-08T15:21:06.357680Z",
     "shell.execute_reply": "2020-11-08T15:21:06.357068Z"
    },
    "papermill": {
     "duration": 0.054735,
     "end_time": "2020-11-08T15:21:06.357787",
     "exception": false,
     "start_time": "2020-11-08T15:21:06.303052",
     "status": "completed"
    },
    "tags": []
   },
   "outputs": [],
   "source": [
    "#The missing values will be filled with the median values of each variable\n",
    "def median_target(variable):   \n",
    "    temp = df[df[variable].notnull()]\n",
    "    temp = temp[[variable, 'Outcome']].groupby(['Outcome'])[[variable]].median().reset_index()\n",
    "    return temp"
   ]
  },
  {
   "cell_type": "code",
   "execution_count": 13,
   "metadata": {
    "execution": {
     "iopub.execute_input": "2020-11-08T15:21:06.462496Z",
     "iopub.status.busy": "2020-11-08T15:21:06.456483Z",
     "iopub.status.idle": "2020-11-08T15:21:06.556676Z",
     "shell.execute_reply": "2020-11-08T15:21:06.555964Z"
    },
    "papermill": {
     "duration": 0.153445,
     "end_time": "2020-11-08T15:21:06.556795",
     "exception": false,
     "start_time": "2020-11-08T15:21:06.403350",
     "status": "completed"
    },
    "tags": []
   },
   "outputs": [],
   "source": [
    "#The values to be given for incomplete observations are given the median value of people who are not sick and the median values of people who are sick\n",
    "columns = df.columns\n",
    "columns = columns.drop(\"Outcome\")\n",
    "for i in columns:\n",
    "    median_target(i)\n",
    "    df.loc[(df['Outcome'] == 0 ) & (df[i].isnull()), i] = median_target(i)[i][0]\n",
    "    df.loc[(df['Outcome'] == 1 ) & (df[i].isnull()), i] = median_target(i)[i][1]"
   ]
  },
  {
   "cell_type": "code",
   "execution_count": 14,
   "metadata": {
    "execution": {
     "iopub.execute_input": "2020-11-08T15:21:06.663253Z",
     "iopub.status.busy": "2020-11-08T15:21:06.662567Z",
     "iopub.status.idle": "2020-11-08T15:21:06.666217Z",
     "shell.execute_reply": "2020-11-08T15:21:06.665679Z"
    },
    "papermill": {
     "duration": 0.063672,
     "end_time": "2020-11-08T15:21:06.666341",
     "exception": false,
     "start_time": "2020-11-08T15:21:06.602669",
     "status": "completed"
    },
    "tags": []
   },
   "outputs": [
    {
     "name": "stdout",
     "output_type": "stream",
     "text": [
      "\n",
      "There is no missing value\n"
     ]
    }
   ],
   "source": [
    "missing_values_table(df)"
   ]
  },
  {
   "cell_type": "markdown",
   "metadata": {
    "papermill": {
     "duration": 0.045565,
     "end_time": "2020-11-08T15:21:06.758689",
     "exception": false,
     "start_time": "2020-11-08T15:21:06.713124",
     "status": "completed"
    },
    "tags": []
   },
   "source": [
    "-----------------"
   ]
  },
  {
   "cell_type": "markdown",
   "metadata": {
    "papermill": {
     "duration": 0.045621,
     "end_time": "2020-11-08T15:21:06.850182",
     "exception": false,
     "start_time": "2020-11-08T15:21:06.804561",
     "status": "completed"
    },
    "tags": []
   },
   "source": [
    "# &#128202; Exploratory Data Analysis"
   ]
  },
  {
   "cell_type": "markdown",
   "metadata": {
    "papermill": {
     "duration": 0.045805,
     "end_time": "2020-11-08T15:21:06.942179",
     "exception": false,
     "start_time": "2020-11-08T15:21:06.896374",
     "status": "completed"
    },
    "tags": []
   },
   "source": [
    "## Histogram"
   ]
  },
  {
   "cell_type": "code",
   "execution_count": 15,
   "metadata": {
    "execution": {
     "iopub.execute_input": "2020-11-08T15:21:07.038972Z",
     "iopub.status.busy": "2020-11-08T15:21:07.038196Z",
     "iopub.status.idle": "2020-11-08T15:21:08.455383Z",
     "shell.execute_reply": "2020-11-08T15:21:08.455877Z"
    },
    "papermill": {
     "duration": 1.468106,
     "end_time": "2020-11-08T15:21:08.456052",
     "exception": false,
     "start_time": "2020-11-08T15:21:06.987946",
     "status": "completed"
    },
    "tags": []
   },
   "outputs": [
    {
     "data": {
      "image/png": "[encoded data removed]",
      "text/plain": [
       "<Figure size 1080x1080 with 9 Axes>"
      ]
     },
     "metadata": {},
     "output_type": "display_data"
    }
   ],
   "source": [
    "df.hist(bins=20,color = \"#F19C1F\",edgecolor='white',figsize = (15,15));"
   ]
  },
  {
   "cell_type": "markdown",
   "metadata": {
    "papermill": {
     "duration": 0.047951,
     "end_time": "2020-11-08T15:21:08.552306",
     "exception": false,
     "start_time": "2020-11-08T15:21:08.504355",
     "status": "completed"
    },
    "tags": []
   },
   "source": [
    "## Correlation Between Features"
   ]
  },
  {
   "cell_type": "code",
   "execution_count": 16,
   "metadata": {
    "execution": {
     "iopub.execute_input": "2020-11-08T15:21:08.657865Z",
     "iopub.status.busy": "2020-11-08T15:21:08.656886Z",
     "iopub.status.idle": "2020-11-08T15:21:09.459902Z",
     "shell.execute_reply": "2020-11-08T15:21:09.460420Z"
    },
    "papermill": {
     "duration": 0.860069,
     "end_time": "2020-11-08T15:21:09.460559",
     "exception": false,
     "start_time": "2020-11-08T15:21:08.600490",
     "status": "completed"
    },
    "tags": []
   },
   "outputs": [
    {
     "data": {
      "image/png": "[encoded data removed]",
      "text/plain": [
       "<Figure size 792x792 with 4 Axes>"
      ]
     },
     "metadata": {},
     "output_type": "display_data"
    }
   ],
   "source": [
    "corr_matrix = df.corr()\n",
    "sns.clustermap(corr_matrix, annot = True, fmt = \".2f\", cmap = \"viridis\", figsize=(11,11))\n",
    "plt.title(\"Correlation Between Features\")\n",
    "plt.show()"
   ]
  },
  {
   "cell_type": "markdown",
   "metadata": {
    "papermill": {
     "duration": 0.050529,
     "end_time": "2020-11-08T15:21:09.562134",
     "exception": false,
     "start_time": "2020-11-08T15:21:09.511605",
     "status": "completed"
    },
    "tags": []
   },
   "source": [
    "-------------------\n",
    "# &#9823; Base Models | LightGBM"
   ]
  },
  {
   "cell_type": "code",
   "execution_count": 17,
   "metadata": {
    "execution": {
     "iopub.execute_input": "2020-11-08T15:21:09.717560Z",
     "iopub.status.busy": "2020-11-08T15:21:09.716715Z",
     "iopub.status.idle": "2020-11-08T15:21:09.719363Z",
     "shell.execute_reply": "2020-11-08T15:21:09.718824Z"
    },
    "papermill": {
     "duration": 0.059189,
     "end_time": "2020-11-08T15:21:09.719474",
     "exception": false,
     "start_time": "2020-11-08T15:21:09.660285",
     "status": "completed"
    },
    "tags": []
   },
   "outputs": [],
   "source": [
    "# Split X and y\n",
    "y = df[\"Outcome\"]\n",
    "X = df.drop([\"Outcome\"], axis = 1)"
   ]
  },
  {
   "cell_type": "code",
   "execution_count": 18,
   "metadata": {
    "execution": {
     "iopub.execute_input": "2020-11-08T15:21:09.829257Z",
     "iopub.status.busy": "2020-11-08T15:21:09.828533Z",
     "iopub.status.idle": "2020-11-08T15:21:09.872723Z",
     "shell.execute_reply": "2020-11-08T15:21:09.873440Z"
    },
    "papermill": {
     "duration": 0.103369,
     "end_time": "2020-11-08T15:21:09.873625",
     "exception": false,
     "start_time": "2020-11-08T15:21:09.770256",
     "status": "completed"
    },
    "tags": []
   },
   "outputs": [
    {
     "name": "stdout",
     "output_type": "stream",
     "text": [
      "Accuracy Score: 0.7799479166666666 \n",
      "\n",
      "              precision    recall  f1-score   support\n",
      "\n",
      "           0       0.80      0.88      0.84       500\n",
      "           1       0.73      0.59      0.65       268\n",
      "\n",
      "    accuracy                           0.78       768\n",
      "   macro avg       0.76      0.74      0.75       768\n",
      "weighted avg       0.78      0.78      0.77       768\n",
      "\n"
     ]
    }
   ],
   "source": [
    "log_model = LogisticRegression().fit(X,y)\n",
    "y_pred = log_model.predict(X)\n",
    "print(\"Accuracy Score:\", accuracy_score(y, y_pred), \"\\n\")\n",
    "print(classification_report(y,y_pred))"
   ]
  },
  {
   "cell_type": "code",
   "execution_count": 19,
   "metadata": {
    "execution": {
     "iopub.execute_input": "2020-11-08T15:21:09.989123Z",
     "iopub.status.busy": "2020-11-08T15:21:09.988279Z",
     "iopub.status.idle": "2020-11-08T15:21:16.443788Z",
     "shell.execute_reply": "2020-11-08T15:21:16.444549Z"
    },
    "papermill": {
     "duration": 6.517753,
     "end_time": "2020-11-08T15:21:16.444715",
     "exception": false,
     "start_time": "2020-11-08T15:21:09.926962",
     "status": "completed"
    },
    "tags": []
   },
   "outputs": [
    {
     "name": "stdout",
     "output_type": "stream",
     "text": [
      "LR: 0.773445 (0.034015)\n",
      "KNN: 0.850239 (0.022081)\n",
      "CART: 0.846429 (0.034558)\n",
      "RF: 0.878930 (0.041453)\n",
      "GBM: 0.881596 (0.025986)\n",
      "XGB: 0.881596 (0.025986)\n",
      "LightGBM: 0.882878 (0.022241)\n"
     ]
    }
   ],
   "source": [
    "models = []\n",
    "models.append(('LR', LogisticRegression()))\n",
    "models.append(('KNN', KNeighborsClassifier()))\n",
    "models.append(('CART', DecisionTreeClassifier()))\n",
    "models.append(('RF', RandomForestClassifier()))\n",
    "models.append(('GBM',GradientBoostingClassifier()))\n",
    "models.append(('XGB', GradientBoostingClassifier()))\n",
    "models.append((\"LightGBM\", LGBMClassifier()))\n",
    "\n",
    "# evaluate each model in turn\n",
    "results = []\n",
    "names = []\n",
    "\n",
    "for name, model in models:\n",
    "    \n",
    "        cv_results = cross_val_score(model, X, y, cv = 10, scoring= \"accuracy\")\n",
    "        results.append(cv_results)\n",
    "        names.append(name)\n",
    "        msg = \"%s: %f (%f)\" % (name, cv_results.mean(), cv_results.std())\n",
    "        print(msg)"
   ]
  },
  {
   "cell_type": "markdown",
   "metadata": {
    "papermill": {
     "duration": 0.084859,
     "end_time": "2020-11-08T15:21:16.636934",
     "exception": false,
     "start_time": "2020-11-08T15:21:16.552075",
     "status": "completed"
    },
    "tags": []
   },
   "source": [
    "## &#128202; Base Model: LightGBM Feature Importance"
   ]
  },
  {
   "cell_type": "code",
   "execution_count": 20,
   "metadata": {
    "execution": {
     "iopub.execute_input": "2020-11-08T15:21:16.760411Z",
     "iopub.status.busy": "2020-11-08T15:21:16.759606Z",
     "iopub.status.idle": "2020-11-08T15:21:17.038176Z",
     "shell.execute_reply": "2020-11-08T15:21:17.037642Z"
    },
    "papermill": {
     "duration": 0.34326,
     "end_time": "2020-11-08T15:21:17.038293",
     "exception": false,
     "start_time": "2020-11-08T15:21:16.695033",
     "status": "completed"
    },
    "scrolled": true,
    "tags": []
   },
   "outputs": [
    {
     "data": {
      "image/png": "[encoded data removed]",
      "text/plain": [
       "<Figure size 720x432 with 1 Axes>"
      ]
     },
     "metadata": {},
     "output_type": "display_data"
    }
   ],
   "source": [
    "Importance = pd.DataFrame({'Importance':LGBMClassifier().fit(X, y).feature_importances_*100}, \n",
    "                          index = X.columns)\n",
    "\n",
    "Importance.sort_values(by = 'Importance', \n",
    "                       axis = 0, \n",
    "                       ascending = True).plot(kind = 'barh', \n",
    "                                              color = '#25B89B', figsize=(10,6))\n",
    "\n",
    "plt.xlabel('LightGBM Feature Importance')\n",
    "plt.gca().legend_ = None"
   ]
  },
  {
   "cell_type": "markdown",
   "metadata": {
    "papermill": {
     "duration": 0.053794,
     "end_time": "2020-11-08T15:21:17.147327",
     "exception": false,
     "start_time": "2020-11-08T15:21:17.093533",
     "status": "completed"
    },
    "tags": []
   },
   "source": [
    "--------------------------\n",
    "# &#128296; Feature Engineering\n"
   ]
  },
  {
   "cell_type": "markdown",
   "metadata": {
    "papermill": {
     "duration": 0.05448,
     "end_time": "2020-11-08T15:21:17.256404",
     "exception": false,
     "start_time": "2020-11-08T15:21:17.201924",
     "status": "completed"
    },
    "tags": []
   },
   "source": [
    "## Outliers"
   ]
  },
  {
   "cell_type": "code",
   "execution_count": 21,
   "metadata": {
    "execution": {
     "iopub.execute_input": "2020-11-08T15:21:17.375957Z",
     "iopub.status.busy": "2020-11-08T15:21:17.375165Z",
     "iopub.status.idle": "2020-11-08T15:21:17.377545Z",
     "shell.execute_reply": "2020-11-08T15:21:17.378140Z"
    },
    "papermill": {
     "duration": 0.06701,
     "end_time": "2020-11-08T15:21:17.378310",
     "exception": false,
     "start_time": "2020-11-08T15:21:17.311300",
     "status": "completed"
    },
    "tags": []
   },
   "outputs": [],
   "source": [
    "Q1 = df.Insulin.quantile(0.25)\n",
    "Q3 = df.Insulin.quantile(0.75)\n",
    "IQR = Q3-Q1\n",
    "lower = Q1 - 1.5*IQR\n",
    "upper = Q3 + 1.5*IQR\n",
    "df.loc[df[\"Insulin\"] > upper,\"Insulin\"] = upper"
   ]
  },
  {
   "cell_type": "code",
   "execution_count": 22,
   "metadata": {
    "execution": {
     "iopub.execute_input": "2020-11-08T15:21:17.496337Z",
     "iopub.status.busy": "2020-11-08T15:21:17.495658Z",
     "iopub.status.idle": "2020-11-08T15:21:17.589440Z",
     "shell.execute_reply": "2020-11-08T15:21:17.588911Z"
    },
    "papermill": {
     "duration": 0.154308,
     "end_time": "2020-11-08T15:21:17.589559",
     "exception": false,
     "start_time": "2020-11-08T15:21:17.435251",
     "status": "completed"
    },
    "tags": []
   },
   "outputs": [
    {
     "data": {
      "image/png": "[encoded data removed]",
      "text/plain": [
       "<Figure size 432x288 with 1 Axes>"
      ]
     },
     "metadata": {},
     "output_type": "display_data"
    }
   ],
   "source": [
    "import seaborn as sns\n",
    "sns.boxplot(x = df[\"Insulin\"]);"
   ]
  },
  {
   "cell_type": "markdown",
   "metadata": {
    "papermill": {
     "duration": 0.0574,
     "end_time": "2020-11-08T15:21:17.703932",
     "exception": false,
     "start_time": "2020-11-08T15:21:17.646532",
     "status": "completed"
    },
    "tags": []
   },
   "source": [
    "## New Features"
   ]
  },
  {
   "cell_type": "code",
   "execution_count": 23,
   "metadata": {
    "execution": {
     "iopub.execute_input": "2020-11-08T15:21:17.827536Z",
     "iopub.status.busy": "2020-11-08T15:21:17.826840Z",
     "iopub.status.idle": "2020-11-08T15:21:17.830468Z",
     "shell.execute_reply": "2020-11-08T15:21:17.830890Z"
    },
    "papermill": {
     "duration": 0.070728,
     "end_time": "2020-11-08T15:21:17.831072",
     "exception": false,
     "start_time": "2020-11-08T15:21:17.760344",
     "status": "completed"
    },
    "tags": []
   },
   "outputs": [],
   "source": [
    "# According to feature importance i'm creating new features.\n",
    "df2 = df.copy()\n",
    "\n",
    "df2[\"Insulin/Age\"]=df2[\"Insulin\"]/df2[\"Age\"]\n",
    "df2[\"BMI/Age\"]=df2[\"BMI\"]/df2[\"Age\"]\n",
    "df2[\"Pregnancies/Age\"]=df2[\"Pregnancies\"]/df2[\"Age\"]\n",
    "df2[\"Ins*Glu\"]=df2[\"Insulin\"]* df2[\"Glucose\"]\n",
    "df2.drop([\"Age\"],axis = 1, inplace = True)"
   ]
  },
  {
   "cell_type": "markdown",
   "metadata": {
    "papermill": {
     "duration": 0.055359,
     "end_time": "2020-11-08T15:21:17.941849",
     "exception": false,
     "start_time": "2020-11-08T15:21:17.886490",
     "status": "completed"
    },
    "tags": []
   },
   "source": [
    "## Edit Features"
   ]
  },
  {
   "cell_type": "markdown",
   "metadata": {
    "papermill": {
     "duration": 0.055123,
     "end_time": "2020-11-08T15:21:18.052721",
     "exception": false,
     "start_time": "2020-11-08T15:21:17.997598",
     "status": "completed"
    },
    "tags": []
   },
   "source": [
    "### - BMI Levels"
   ]
  },
  {
   "cell_type": "markdown",
   "metadata": {
    "papermill": {
     "duration": 0.055281,
     "end_time": "2020-11-08T15:21:18.163385",
     "exception": false,
     "start_time": "2020-11-08T15:21:18.108104",
     "status": "completed"
    },
    "tags": []
   },
   "source": [
    "<center><img\n",
    "src=\"https://www.oguzerdogan.com/wp-content/uploads/2020/10/BMI.jpg\">\n",
    "</center>"
   ]
  },
  {
   "cell_type": "code",
   "execution_count": 24,
   "metadata": {
    "execution": {
     "iopub.execute_input": "2020-11-08T15:21:18.284129Z",
     "iopub.status.busy": "2020-11-08T15:21:18.281581Z",
     "iopub.status.idle": "2020-11-08T15:21:18.287645Z",
     "shell.execute_reply": "2020-11-08T15:21:18.287098Z"
    },
    "papermill": {
     "duration": 0.068544,
     "end_time": "2020-11-08T15:21:18.287770",
     "exception": false,
     "start_time": "2020-11-08T15:21:18.219226",
     "status": "completed"
    },
    "tags": []
   },
   "outputs": [],
   "source": [
    "df2['New_BMI'] = pd.cut(x = df['BMI'], bins = [0,18.5, 24.9, 29.9, 100], labels = [\"Underweight\", \n",
    "                                                                                  \"NormalWeight\", \n",
    "                                                                                  \"Overweight\", \n",
    "                                                                                  \"Obes\"])"
   ]
  },
  {
   "cell_type": "markdown",
   "metadata": {
    "papermill": {
     "duration": 0.055685,
     "end_time": "2020-11-08T15:21:18.398891",
     "exception": false,
     "start_time": "2020-11-08T15:21:18.343206",
     "status": "completed"
    },
    "tags": []
   },
   "source": [
    "### - Blood Pressure Levels"
   ]
  },
  {
   "cell_type": "markdown",
   "metadata": {
    "papermill": {
     "duration": 0.05488,
     "end_time": "2020-11-08T15:21:18.509808",
     "exception": false,
     "start_time": "2020-11-08T15:21:18.454928",
     "status": "completed"
    },
    "tags": []
   },
   "source": [
    "<center><img\n",
    "src=\"https://www.oguzerdogan.com/wp-content/uploads/2020/10/blood.jpg\">\n",
    "</center>\n",
    "\n"
   ]
  },
  {
   "cell_type": "code",
   "execution_count": 25,
   "metadata": {
    "execution": {
     "iopub.execute_input": "2020-11-08T15:21:18.629282Z",
     "iopub.status.busy": "2020-11-08T15:21:18.628000Z",
     "iopub.status.idle": "2020-11-08T15:21:18.632547Z",
     "shell.execute_reply": "2020-11-08T15:21:18.632005Z"
    },
    "papermill": {
     "duration": 0.067333,
     "end_time": "2020-11-08T15:21:18.632658",
     "exception": false,
     "start_time": "2020-11-08T15:21:18.565325",
     "status": "completed"
    },
    "tags": []
   },
   "outputs": [],
   "source": [
    "df2['New_BloodPressure'] = pd.cut(x = df['BloodPressure'], bins = [0,80, 90, 120, 122], labels = [\"Normal\", \n",
    "                                                                                                \"Hyper_St1\", \n",
    "                                                                                                \"Hyper_St2\", \n",
    "                                                                                                \"Hyper_Emer\"])\n",
    "#reference: American Heart Association"
   ]
  },
  {
   "cell_type": "markdown",
   "metadata": {
    "papermill": {
     "duration": 0.055484,
     "end_time": "2020-11-08T15:21:18.743953",
     "exception": false,
     "start_time": "2020-11-08T15:21:18.688469",
     "status": "completed"
    },
    "tags": []
   },
   "source": [
    "### - Glucose Levels"
   ]
  },
  {
   "cell_type": "markdown",
   "metadata": {
    "papermill": {
     "duration": 0.055498,
     "end_time": "2020-11-08T15:21:18.854983",
     "exception": false,
     "start_time": "2020-11-08T15:21:18.799485",
     "status": "completed"
    },
    "tags": []
   },
   "source": [
    "<center><img\n",
    "src=\"https://www.oguzerdogan.com/wp-content/uploads/2020/10/glucose.jpg\">\n",
    "</center>"
   ]
  },
  {
   "cell_type": "code",
   "execution_count": 26,
   "metadata": {
    "execution": {
     "iopub.execute_input": "2020-11-08T15:21:18.975274Z",
     "iopub.status.busy": "2020-11-08T15:21:18.974394Z",
     "iopub.status.idle": "2020-11-08T15:21:18.977364Z",
     "shell.execute_reply": "2020-11-08T15:21:18.977799Z"
    },
    "papermill": {
     "duration": 0.067615,
     "end_time": "2020-11-08T15:21:18.977943",
     "exception": false,
     "start_time": "2020-11-08T15:21:18.910328",
     "status": "completed"
    },
    "tags": []
   },
   "outputs": [],
   "source": [
    "df2[\"New_Glucose\"] = pd.cut(x = df[\"Glucose\"], bins = [0,140,200,300], labels = [\"Normal\",\n",
    "                                                                                \"Prediabetes\",\n",
    "                                                                                \"Diabetes\"])\n",
    "#reference: https://emedicine.medscape.com/article/2049402-overview"
   ]
  },
  {
   "cell_type": "markdown",
   "metadata": {
    "papermill": {
     "duration": 0.055518,
     "end_time": "2020-11-08T15:21:19.089216",
     "exception": false,
     "start_time": "2020-11-08T15:21:19.033698",
     "status": "completed"
    },
    "tags": []
   },
   "source": [
    "### - Insulin Levels"
   ]
  },
  {
   "cell_type": "code",
   "execution_count": 27,
   "metadata": {
    "execution": {
     "iopub.execute_input": "2020-11-08T15:21:19.206708Z",
     "iopub.status.busy": "2020-11-08T15:21:19.205967Z",
     "iopub.status.idle": "2020-11-08T15:21:19.209219Z",
     "shell.execute_reply": "2020-11-08T15:21:19.208559Z"
    },
    "papermill": {
     "duration": 0.064067,
     "end_time": "2020-11-08T15:21:19.209336",
     "exception": false,
     "start_time": "2020-11-08T15:21:19.145269",
     "status": "completed"
    },
    "tags": []
   },
   "outputs": [],
   "source": [
    "#A categorical variable creation process is performed according to the insulin value.\n",
    "def set_insulin(row): \n",
    "    if row[\"Insulin\"] >= 100 and row[\"Insulin\"] <= 126:\n",
    "        return \"Normal\"\n",
    "    else:\n",
    "        return \"Abnormal\""
   ]
  },
  {
   "cell_type": "code",
   "execution_count": 28,
   "metadata": {
    "execution": {
     "iopub.execute_input": "2020-11-08T15:21:19.327231Z",
     "iopub.status.busy": "2020-11-08T15:21:19.326557Z",
     "iopub.status.idle": "2020-11-08T15:21:19.344606Z",
     "shell.execute_reply": "2020-11-08T15:21:19.345165Z"
    },
    "papermill": {
     "duration": 0.079589,
     "end_time": "2020-11-08T15:21:19.345314",
     "exception": false,
     "start_time": "2020-11-08T15:21:19.265725",
     "status": "completed"
    },
    "tags": []
   },
   "outputs": [],
   "source": [
    "df2 = df2.assign(NewInsulinScore=df2.apply(set_insulin, axis=1))"
   ]
  },
  {
   "cell_type": "code",
   "execution_count": 29,
   "metadata": {
    "execution": {
     "iopub.execute_input": "2020-11-08T15:21:19.479493Z",
     "iopub.status.busy": "2020-11-08T15:21:19.470881Z",
     "iopub.status.idle": "2020-11-08T15:21:19.484250Z",
     "shell.execute_reply": "2020-11-08T15:21:19.483676Z"
    },
    "papermill": {
     "duration": 0.081942,
     "end_time": "2020-11-08T15:21:19.484372",
     "exception": false,
     "start_time": "2020-11-08T15:21:19.402430",
     "status": "completed"
    },
    "tags": []
   },
   "outputs": [
    {
     "data": {
      "text/html": [
       "<div>\n",
       "<style scoped>\n",
       "    .dataframe tbody tr th:only-of-type {\n",
       "        vertical-align: middle;\n",
       "    }\n",
       "\n",
       "    .dataframe tbody tr th {\n",
       "        vertical-align: top;\n",
       "    }\n",
       "\n",
       "    .dataframe thead th {\n",
       "        text-align: right;\n",
       "    }\n",
       "</style>\n",
       "<table border=\"1\" class=\"dataframe\">\n",
       "  <thead>\n",
       "    <tr style=\"text-align: right;\">\n",
       "      <th></th>\n",
       "      <th>Pregnancies</th>\n",
       "      <th>Glucose</th>\n",
       "      <th>BloodPressure</th>\n",
       "      <th>SkinThickness</th>\n",
       "      <th>Insulin</th>\n",
       "      <th>BMI</th>\n",
       "      <th>DiabetesPedigreeFunction</th>\n",
       "      <th>Outcome</th>\n",
       "      <th>Insulin/Age</th>\n",
       "      <th>BMI/Age</th>\n",
       "      <th>Pregnancies/Age</th>\n",
       "      <th>Ins*Glu</th>\n",
       "      <th>New_BMI</th>\n",
       "      <th>New_BloodPressure</th>\n",
       "      <th>New_Glucose</th>\n",
       "      <th>NewInsulinScore</th>\n",
       "    </tr>\n",
       "  </thead>\n",
       "  <tbody>\n",
       "    <tr>\n",
       "      <th>0</th>\n",
       "      <td>6</td>\n",
       "      <td>148.0</td>\n",
       "      <td>72.0</td>\n",
       "      <td>35.0</td>\n",
       "      <td>169.5</td>\n",
       "      <td>33.6</td>\n",
       "      <td>0.627</td>\n",
       "      <td>1</td>\n",
       "      <td>3.390000</td>\n",
       "      <td>0.672000</td>\n",
       "      <td>0.120000</td>\n",
       "      <td>25086.0</td>\n",
       "      <td>Obes</td>\n",
       "      <td>Normal</td>\n",
       "      <td>Prediabetes</td>\n",
       "      <td>Abnormal</td>\n",
       "    </tr>\n",
       "    <tr>\n",
       "      <th>1</th>\n",
       "      <td>1</td>\n",
       "      <td>85.0</td>\n",
       "      <td>66.0</td>\n",
       "      <td>29.0</td>\n",
       "      <td>102.5</td>\n",
       "      <td>26.6</td>\n",
       "      <td>0.351</td>\n",
       "      <td>0</td>\n",
       "      <td>3.306452</td>\n",
       "      <td>0.858065</td>\n",
       "      <td>0.032258</td>\n",
       "      <td>8712.5</td>\n",
       "      <td>Overweight</td>\n",
       "      <td>Normal</td>\n",
       "      <td>Normal</td>\n",
       "      <td>Normal</td>\n",
       "    </tr>\n",
       "    <tr>\n",
       "      <th>2</th>\n",
       "      <td>8</td>\n",
       "      <td>183.0</td>\n",
       "      <td>64.0</td>\n",
       "      <td>32.0</td>\n",
       "      <td>169.5</td>\n",
       "      <td>23.3</td>\n",
       "      <td>0.672</td>\n",
       "      <td>1</td>\n",
       "      <td>5.296875</td>\n",
       "      <td>0.728125</td>\n",
       "      <td>0.250000</td>\n",
       "      <td>31018.5</td>\n",
       "      <td>NormalWeight</td>\n",
       "      <td>Normal</td>\n",
       "      <td>Prediabetes</td>\n",
       "      <td>Abnormal</td>\n",
       "    </tr>\n",
       "    <tr>\n",
       "      <th>3</th>\n",
       "      <td>1</td>\n",
       "      <td>89.0</td>\n",
       "      <td>66.0</td>\n",
       "      <td>23.0</td>\n",
       "      <td>94.0</td>\n",
       "      <td>28.1</td>\n",
       "      <td>0.167</td>\n",
       "      <td>0</td>\n",
       "      <td>4.476190</td>\n",
       "      <td>1.338095</td>\n",
       "      <td>0.047619</td>\n",
       "      <td>8366.0</td>\n",
       "      <td>Overweight</td>\n",
       "      <td>Normal</td>\n",
       "      <td>Normal</td>\n",
       "      <td>Abnormal</td>\n",
       "    </tr>\n",
       "    <tr>\n",
       "      <th>4</th>\n",
       "      <td>0</td>\n",
       "      <td>137.0</td>\n",
       "      <td>40.0</td>\n",
       "      <td>35.0</td>\n",
       "      <td>168.0</td>\n",
       "      <td>43.1</td>\n",
       "      <td>2.288</td>\n",
       "      <td>1</td>\n",
       "      <td>5.090909</td>\n",
       "      <td>1.306061</td>\n",
       "      <td>0.000000</td>\n",
       "      <td>23016.0</td>\n",
       "      <td>Obes</td>\n",
       "      <td>Normal</td>\n",
       "      <td>Normal</td>\n",
       "      <td>Abnormal</td>\n",
       "    </tr>\n",
       "  </tbody>\n",
       "</table>\n",
       "</div>"
      ],
      "text/plain": [
       "   Pregnancies  Glucose  BloodPressure  SkinThickness  Insulin   BMI  \\\n",
       "0            6    148.0           72.0           35.0    169.5  33.6   \n",
       "1            1     85.0           66.0           29.0    102.5  26.6   \n",
       "2            8    183.0           64.0           32.0    169.5  23.3   \n",
       "3            1     89.0           66.0           23.0     94.0  28.1   \n",
       "4            0    137.0           40.0           35.0    168.0  43.1   \n",
       "\n",
       "   DiabetesPedigreeFunction  Outcome  Insulin/Age   BMI/Age  Pregnancies/Age  \\\n",
       "0                     0.627        1     3.390000  0.672000         0.120000   \n",
       "1                     0.351        0     3.306452  0.858065         0.032258   \n",
       "2                     0.672        1     5.296875  0.728125         0.250000   \n",
       "3                     0.167        0     4.476190  1.338095         0.047619   \n",
       "4                     2.288        1     5.090909  1.306061         0.000000   \n",
       "\n",
       "   Ins*Glu       New_BMI New_BloodPressure  New_Glucose NewInsulinScore  \n",
       "0  25086.0          Obes            Normal  Prediabetes        Abnormal  \n",
       "1   8712.5    Overweight            Normal       Normal          Normal  \n",
       "2  31018.5  NormalWeight            Normal  Prediabetes        Abnormal  \n",
       "3   8366.0    Overweight            Normal       Normal        Abnormal  \n",
       "4  23016.0          Obes            Normal       Normal        Abnormal  "
      ]
     },
     "execution_count": 29,
     "metadata": {},
     "output_type": "execute_result"
    }
   ],
   "source": [
    "df2.head()"
   ]
  },
  {
   "cell_type": "markdown",
   "metadata": {
    "papermill": {
     "duration": 0.056696,
     "end_time": "2020-11-08T15:21:19.597926",
     "exception": false,
     "start_time": "2020-11-08T15:21:19.541230",
     "status": "completed"
    },
    "tags": []
   },
   "source": [
    "------------\n",
    "# &#8690; One Hot Encoding"
   ]
  },
  {
   "cell_type": "code",
   "execution_count": 30,
   "metadata": {
    "execution": {
     "iopub.execute_input": "2020-11-08T15:21:19.718119Z",
     "iopub.status.busy": "2020-11-08T15:21:19.717427Z",
     "iopub.status.idle": "2020-11-08T15:21:19.720389Z",
     "shell.execute_reply": "2020-11-08T15:21:19.719726Z"
    },
    "papermill": {
     "duration": 0.066052,
     "end_time": "2020-11-08T15:21:19.720502",
     "exception": false,
     "start_time": "2020-11-08T15:21:19.654450",
     "status": "completed"
    },
    "tags": []
   },
   "outputs": [],
   "source": [
    "def one_hot_encoder(dataframe, categorical_columns, nan_as_category=False):\n",
    "    original_columns = list(dataframe.columns)\n",
    "    dataframe = pd.get_dummies(dataframe, columns=categorical_columns,\n",
    "                               dummy_na=nan_as_category, drop_first=True)\n",
    "    new_columns = [col for col in dataframe.columns if col not in original_columns]\n",
    "    return dataframe, new_columns"
   ]
  },
  {
   "cell_type": "code",
   "execution_count": 31,
   "metadata": {
    "execution": {
     "iopub.execute_input": "2020-11-08T15:21:19.839436Z",
     "iopub.status.busy": "2020-11-08T15:21:19.838424Z",
     "iopub.status.idle": "2020-11-08T15:21:19.846839Z",
     "shell.execute_reply": "2020-11-08T15:21:19.846345Z"
    },
    "papermill": {
     "duration": 0.070229,
     "end_time": "2020-11-08T15:21:19.846953",
     "exception": false,
     "start_time": "2020-11-08T15:21:19.776724",
     "status": "completed"
    },
    "tags": []
   },
   "outputs": [
    {
     "data": {
      "text/plain": [
       "['New_BMI', 'New_BloodPressure', 'New_Glucose', 'NewInsulinScore']"
      ]
     },
     "execution_count": 31,
     "metadata": {},
     "output_type": "execute_result"
    }
   ],
   "source": [
    "categorical_columns = [col for col in df2.columns\n",
    "                           if len(df2[col].unique()) <= 10\n",
    "                      and col != \"Outcome\"]\n",
    "categorical_columns"
   ]
  },
  {
   "cell_type": "code",
   "execution_count": 32,
   "metadata": {
    "execution": {
     "iopub.execute_input": "2020-11-08T15:21:19.969616Z",
     "iopub.status.busy": "2020-11-08T15:21:19.968632Z",
     "iopub.status.idle": "2020-11-08T15:21:19.977446Z",
     "shell.execute_reply": "2020-11-08T15:21:19.976912Z"
    },
    "papermill": {
     "duration": 0.073718,
     "end_time": "2020-11-08T15:21:19.977564",
     "exception": false,
     "start_time": "2020-11-08T15:21:19.903846",
     "status": "completed"
    },
    "tags": []
   },
   "outputs": [
    {
     "data": {
      "text/plain": [
       "['New_BMI_NormalWeight',\n",
       " 'New_BMI_Overweight',\n",
       " 'New_BMI_Obes',\n",
       " 'New_BloodPressure_Hyper_St1',\n",
       " 'New_BloodPressure_Hyper_St2',\n",
       " 'New_BloodPressure_Hyper_Emer',\n",
       " 'New_Glucose_Prediabetes',\n",
       " 'New_Glucose_Diabetes',\n",
       " 'NewInsulinScore_Normal']"
      ]
     },
     "execution_count": 32,
     "metadata": {},
     "output_type": "execute_result"
    }
   ],
   "source": [
    "df2, new_cols_ohe = one_hot_encoder(df2,categorical_columns)\n",
    "new_cols_ohe"
   ]
  },
  {
   "cell_type": "code",
   "execution_count": 33,
   "metadata": {
    "execution": {
     "iopub.execute_input": "2020-11-08T15:21:20.098376Z",
     "iopub.status.busy": "2020-11-08T15:21:20.097381Z",
     "iopub.status.idle": "2020-11-08T15:21:20.121305Z",
     "shell.execute_reply": "2020-11-08T15:21:20.120436Z"
    },
    "papermill": {
     "duration": 0.08631,
     "end_time": "2020-11-08T15:21:20.121419",
     "exception": false,
     "start_time": "2020-11-08T15:21:20.035109",
     "status": "completed"
    },
    "tags": []
   },
   "outputs": [
    {
     "data": {
      "text/html": [
       "<div>\n",
       "<style scoped>\n",
       "    .dataframe tbody tr th:only-of-type {\n",
       "        vertical-align: middle;\n",
       "    }\n",
       "\n",
       "    .dataframe tbody tr th {\n",
       "        vertical-align: top;\n",
       "    }\n",
       "\n",
       "    .dataframe thead th {\n",
       "        text-align: right;\n",
       "    }\n",
       "</style>\n",
       "<table border=\"1\" class=\"dataframe\">\n",
       "  <thead>\n",
       "    <tr style=\"text-align: right;\">\n",
       "      <th></th>\n",
       "      <th>Pregnancies</th>\n",
       "      <th>Glucose</th>\n",
       "      <th>BloodPressure</th>\n",
       "      <th>SkinThickness</th>\n",
       "      <th>Insulin</th>\n",
       "      <th>BMI</th>\n",
       "      <th>DiabetesPedigreeFunction</th>\n",
       "      <th>Outcome</th>\n",
       "      <th>Insulin/Age</th>\n",
       "      <th>BMI/Age</th>\n",
       "      <th>...</th>\n",
       "      <th>Ins*Glu</th>\n",
       "      <th>New_BMI_NormalWeight</th>\n",
       "      <th>New_BMI_Overweight</th>\n",
       "      <th>New_BMI_Obes</th>\n",
       "      <th>New_BloodPressure_Hyper_St1</th>\n",
       "      <th>New_BloodPressure_Hyper_St2</th>\n",
       "      <th>New_BloodPressure_Hyper_Emer</th>\n",
       "      <th>New_Glucose_Prediabetes</th>\n",
       "      <th>New_Glucose_Diabetes</th>\n",
       "      <th>NewInsulinScore_Normal</th>\n",
       "    </tr>\n",
       "  </thead>\n",
       "  <tbody>\n",
       "    <tr>\n",
       "      <th>0</th>\n",
       "      <td>6</td>\n",
       "      <td>148.0</td>\n",
       "      <td>72.0</td>\n",
       "      <td>35.0</td>\n",
       "      <td>169.5</td>\n",
       "      <td>33.6</td>\n",
       "      <td>0.627</td>\n",
       "      <td>1</td>\n",
       "      <td>3.390000</td>\n",
       "      <td>0.672000</td>\n",
       "      <td>...</td>\n",
       "      <td>25086.0</td>\n",
       "      <td>0</td>\n",
       "      <td>0</td>\n",
       "      <td>1</td>\n",
       "      <td>0</td>\n",
       "      <td>0</td>\n",
       "      <td>0</td>\n",
       "      <td>1</td>\n",
       "      <td>0</td>\n",
       "      <td>0</td>\n",
       "    </tr>\n",
       "    <tr>\n",
       "      <th>1</th>\n",
       "      <td>1</td>\n",
       "      <td>85.0</td>\n",
       "      <td>66.0</td>\n",
       "      <td>29.0</td>\n",
       "      <td>102.5</td>\n",
       "      <td>26.6</td>\n",
       "      <td>0.351</td>\n",
       "      <td>0</td>\n",
       "      <td>3.306452</td>\n",
       "      <td>0.858065</td>\n",
       "      <td>...</td>\n",
       "      <td>8712.5</td>\n",
       "      <td>0</td>\n",
       "      <td>1</td>\n",
       "      <td>0</td>\n",
       "      <td>0</td>\n",
       "      <td>0</td>\n",
       "      <td>0</td>\n",
       "      <td>0</td>\n",
       "      <td>0</td>\n",
       "      <td>1</td>\n",
       "    </tr>\n",
       "    <tr>\n",
       "      <th>2</th>\n",
       "      <td>8</td>\n",
       "      <td>183.0</td>\n",
       "      <td>64.0</td>\n",
       "      <td>32.0</td>\n",
       "      <td>169.5</td>\n",
       "      <td>23.3</td>\n",
       "      <td>0.672</td>\n",
       "      <td>1</td>\n",
       "      <td>5.296875</td>\n",
       "      <td>0.728125</td>\n",
       "      <td>...</td>\n",
       "      <td>31018.5</td>\n",
       "      <td>1</td>\n",
       "      <td>0</td>\n",
       "      <td>0</td>\n",
       "      <td>0</td>\n",
       "      <td>0</td>\n",
       "      <td>0</td>\n",
       "      <td>1</td>\n",
       "      <td>0</td>\n",
       "      <td>0</td>\n",
       "    </tr>\n",
       "    <tr>\n",
       "      <th>3</th>\n",
       "      <td>1</td>\n",
       "      <td>89.0</td>\n",
       "      <td>66.0</td>\n",
       "      <td>23.0</td>\n",
       "      <td>94.0</td>\n",
       "      <td>28.1</td>\n",
       "      <td>0.167</td>\n",
       "      <td>0</td>\n",
       "      <td>4.476190</td>\n",
       "      <td>1.338095</td>\n",
       "      <td>...</td>\n",
       "      <td>8366.0</td>\n",
       "      <td>0</td>\n",
       "      <td>1</td>\n",
       "      <td>0</td>\n",
       "      <td>0</td>\n",
       "      <td>0</td>\n",
       "      <td>0</td>\n",
       "      <td>0</td>\n",
       "      <td>0</td>\n",
       "      <td>0</td>\n",
       "    </tr>\n",
       "    <tr>\n",
       "      <th>4</th>\n",
       "      <td>0</td>\n",
       "      <td>137.0</td>\n",
       "      <td>40.0</td>\n",
       "      <td>35.0</td>\n",
       "      <td>168.0</td>\n",
       "      <td>43.1</td>\n",
       "      <td>2.288</td>\n",
       "      <td>1</td>\n",
       "      <td>5.090909</td>\n",
       "      <td>1.306061</td>\n",
       "      <td>...</td>\n",
       "      <td>23016.0</td>\n",
       "      <td>0</td>\n",
       "      <td>0</td>\n",
       "      <td>1</td>\n",
       "      <td>0</td>\n",
       "      <td>0</td>\n",
       "      <td>0</td>\n",
       "      <td>0</td>\n",
       "      <td>0</td>\n",
       "      <td>0</td>\n",
       "    </tr>\n",
       "  </tbody>\n",
       "</table>\n",
       "<p>5 rows × 21 columns</p>\n",
       "</div>"
      ],
      "text/plain": [
       "   Pregnancies  Glucose  BloodPressure  SkinThickness  Insulin   BMI  \\\n",
       "0            6    148.0           72.0           35.0    169.5  33.6   \n",
       "1            1     85.0           66.0           29.0    102.5  26.6   \n",
       "2            8    183.0           64.0           32.0    169.5  23.3   \n",
       "3            1     89.0           66.0           23.0     94.0  28.1   \n",
       "4            0    137.0           40.0           35.0    168.0  43.1   \n",
       "\n",
       "   DiabetesPedigreeFunction  Outcome  Insulin/Age   BMI/Age  ...  Ins*Glu  \\\n",
       "0                     0.627        1     3.390000  0.672000  ...  25086.0   \n",
       "1                     0.351        0     3.306452  0.858065  ...   8712.5   \n",
       "2                     0.672        1     5.296875  0.728125  ...  31018.5   \n",
       "3                     0.167        0     4.476190  1.338095  ...   8366.0   \n",
       "4                     2.288        1     5.090909  1.306061  ...  23016.0   \n",
       "\n",
       "   New_BMI_NormalWeight  New_BMI_Overweight  New_BMI_Obes  \\\n",
       "0                     0                   0             1   \n",
       "1                     0                   1             0   \n",
       "2                     1                   0             0   \n",
       "3                     0                   1             0   \n",
       "4                     0                   0             1   \n",
       "\n",
       "   New_BloodPressure_Hyper_St1  New_BloodPressure_Hyper_St2  \\\n",
       "0                            0                            0   \n",
       "1                            0                            0   \n",
       "2                            0                            0   \n",
       "3                            0                            0   \n",
       "4                            0                            0   \n",
       "\n",
       "   New_BloodPressure_Hyper_Emer  New_Glucose_Prediabetes  \\\n",
       "0                             0                        1   \n",
       "1                             0                        0   \n",
       "2                             0                        1   \n",
       "3                             0                        0   \n",
       "4                             0                        0   \n",
       "\n",
       "   New_Glucose_Diabetes  NewInsulinScore_Normal  \n",
       "0                     0                       0  \n",
       "1                     0                       1  \n",
       "2                     0                       0  \n",
       "3                     0                       0  \n",
       "4                     0                       0  \n",
       "\n",
       "[5 rows x 21 columns]"
      ]
     },
     "execution_count": 33,
     "metadata": {},
     "output_type": "execute_result"
    }
   ],
   "source": [
    "df2.head()"
   ]
  },
  {
   "cell_type": "markdown",
   "metadata": {
    "papermill": {
     "duration": 0.057722,
     "end_time": "2020-11-08T15:21:20.237338",
     "exception": false,
     "start_time": "2020-11-08T15:21:20.179616",
     "status": "completed"
    },
    "tags": []
   },
   "source": [
    "----------------\n",
    "# &#128270; LOF"
   ]
  },
  {
   "cell_type": "code",
   "execution_count": 34,
   "metadata": {
    "execution": {
     "iopub.execute_input": "2020-11-08T15:21:20.361390Z",
     "iopub.status.busy": "2020-11-08T15:21:20.359165Z",
     "iopub.status.idle": "2020-11-08T15:21:20.375464Z",
     "shell.execute_reply": "2020-11-08T15:21:20.374926Z"
    },
    "papermill": {
     "duration": 0.079799,
     "end_time": "2020-11-08T15:21:20.375581",
     "exception": false,
     "start_time": "2020-11-08T15:21:20.295782",
     "status": "completed"
    },
    "tags": []
   },
   "outputs": [
    {
     "data": {
      "text/plain": [
       "array([-1.98313132, -1.69531543, -1.64368332, -1.47770049, -1.37252873,\n",
       "       -1.29515048, -1.23085806, -1.23084006, -1.22673894, -1.21901212,\n",
       "       -1.19542052, -1.19293065, -1.18366318, -1.16546104, -1.16546042,\n",
       "       -1.16253349, -1.16158179, -1.15572412, -1.15484948, -1.15207033,\n",
       "       -1.14897818, -1.14751606, -1.14423816, -1.14420692, -1.14187184,\n",
       "       -1.13769114, -1.13743645, -1.13626056, -1.13442609, -1.13400241])"
      ]
     },
     "execution_count": 34,
     "metadata": {},
     "output_type": "execute_result"
    }
   ],
   "source": [
    "from sklearn.neighbors import LocalOutlierFactor\n",
    "lof =LocalOutlierFactor(n_neighbors= 20)\n",
    "lof.fit_predict(df2)\n",
    "df_scores = lof.negative_outlier_factor_\n",
    "np.sort(df_scores)[0:30]"
   ]
  },
  {
   "cell_type": "code",
   "execution_count": 35,
   "metadata": {
    "execution": {
     "iopub.execute_input": "2020-11-08T15:21:20.499723Z",
     "iopub.status.busy": "2020-11-08T15:21:20.498991Z",
     "iopub.status.idle": "2020-11-08T15:21:20.503471Z",
     "shell.execute_reply": "2020-11-08T15:21:20.502953Z"
    },
    "papermill": {
     "duration": 0.068728,
     "end_time": "2020-11-08T15:21:20.503585",
     "exception": false,
     "start_time": "2020-11-08T15:21:20.434857",
     "status": "completed"
    },
    "tags": []
   },
   "outputs": [
    {
     "data": {
      "text/plain": [
       "-1.230858057227857"
      ]
     },
     "execution_count": 35,
     "metadata": {},
     "output_type": "execute_result"
    }
   ],
   "source": [
    "th = np.sort(df_scores)[6]\n",
    "th"
   ]
  },
  {
   "cell_type": "code",
   "execution_count": 36,
   "metadata": {
    "execution": {
     "iopub.execute_input": "2020-11-08T15:21:20.627873Z",
     "iopub.status.busy": "2020-11-08T15:21:20.626969Z",
     "iopub.status.idle": "2020-11-08T15:21:20.631068Z",
     "shell.execute_reply": "2020-11-08T15:21:20.630546Z"
    },
    "papermill": {
     "duration": 0.068871,
     "end_time": "2020-11-08T15:21:20.631183",
     "exception": false,
     "start_time": "2020-11-08T15:21:20.562312",
     "status": "completed"
    },
    "tags": []
   },
   "outputs": [
    {
     "data": {
      "text/plain": [
       "(761, 21)"
      ]
     },
     "execution_count": 36,
     "metadata": {},
     "output_type": "execute_result"
    }
   ],
   "source": [
    "#We delete those that are higher than the threshold value\n",
    "df2 = df2[df_scores > th]\n",
    "df2.shape"
   ]
  },
  {
   "cell_type": "markdown",
   "metadata": {
    "papermill": {
     "duration": 0.059641,
     "end_time": "2020-11-08T15:21:20.750959",
     "exception": false,
     "start_time": "2020-11-08T15:21:20.691318",
     "status": "completed"
    },
    "tags": []
   },
   "source": [
    "----------\n",
    "# &#9822; New Features Model | LightGBM"
   ]
  },
  {
   "cell_type": "code",
   "execution_count": 37,
   "metadata": {
    "execution": {
     "iopub.execute_input": "2020-11-08T15:21:20.877946Z",
     "iopub.status.busy": "2020-11-08T15:21:20.877302Z",
     "iopub.status.idle": "2020-11-08T15:21:20.880649Z",
     "shell.execute_reply": "2020-11-08T15:21:20.880146Z"
    },
    "papermill": {
     "duration": 0.070024,
     "end_time": "2020-11-08T15:21:20.880763",
     "exception": false,
     "start_time": "2020-11-08T15:21:20.810739",
     "status": "completed"
    },
    "tags": []
   },
   "outputs": [],
   "source": [
    "y = df2[\"Outcome\"]\n",
    "X = df2.drop([\"Outcome\"], axis = 1)"
   ]
  },
  {
   "cell_type": "code",
   "execution_count": 38,
   "metadata": {
    "execution": {
     "iopub.execute_input": "2020-11-08T15:21:21.011519Z",
     "iopub.status.busy": "2020-11-08T15:21:21.008162Z",
     "iopub.status.idle": "2020-11-08T15:21:26.894662Z",
     "shell.execute_reply": "2020-11-08T15:21:26.895452Z"
    },
    "papermill": {
     "duration": 5.955696,
     "end_time": "2020-11-08T15:21:26.895637",
     "exception": false,
     "start_time": "2020-11-08T15:21:20.939941",
     "status": "completed"
    },
    "tags": []
   },
   "outputs": [
    {
     "name": "stdout",
     "output_type": "stream",
     "text": [
      "RF: 0.880400 (0.027955)\n",
      "GBM: 0.881750 (0.027523)\n",
      "XGBM: 0.873872 (0.040345)\n",
      "LightGBM: 0.884330 (0.035778)\n"
     ]
    }
   ],
   "source": [
    "models = [('RF', RandomForestClassifier()),\n",
    "          ('GBM',GradientBoostingClassifier()),\n",
    "          ('XGBM', XGBClassifier()),\n",
    "          (\"LightGBM\", LGBMClassifier())]\n",
    "\n",
    "# evaluate each model in turn\n",
    "results = []\n",
    "names = []\n",
    "\n",
    "for name, model in models:\n",
    "    kfold = KFold(n_splits=10, random_state=123456)\n",
    "    cv_results = cross_val_score(model, X, y, cv=kfold, scoring=\"accuracy\")\n",
    "    results.append(cv_results)\n",
    "    names.append(name)\n",
    "    msg = \"%s: %f (%f)\" % (name, cv_results.mean(), cv_results.std())\n",
    "    print(msg)"
   ]
  },
  {
   "cell_type": "markdown",
   "metadata": {
    "papermill": {
     "duration": 0.084494,
     "end_time": "2020-11-08T15:21:27.066211",
     "exception": false,
     "start_time": "2020-11-08T15:21:26.981717",
     "status": "completed"
    },
    "tags": []
   },
   "source": [
    "-------------------\n",
    "# &#9881;Model Tuning Steps"
   ]
  },
  {
   "cell_type": "code",
   "execution_count": 39,
   "metadata": {
    "execution": {
     "iopub.execute_input": "2020-11-08T15:21:27.201354Z",
     "iopub.status.busy": "2020-11-08T15:21:27.200473Z",
     "iopub.status.idle": "2020-11-08T15:21:27.452978Z",
     "shell.execute_reply": "2020-11-08T15:21:27.453874Z"
    },
    "papermill": {
     "duration": 0.32306,
     "end_time": "2020-11-08T15:21:27.454194",
     "exception": false,
     "start_time": "2020-11-08T15:21:27.131134",
     "status": "completed"
    },
    "tags": []
   },
   "outputs": [],
   "source": [
    "# LGBM Tuned Model\n",
    "\n",
    "lgbm_tuned = LGBMClassifier(colsample_bytree = 0.5, \n",
    "                            learning_rate = 0.01,\n",
    "                            max_depth = 6,\n",
    "                            n_estimators = 500).fit(X, y)"
   ]
  },
  {
   "cell_type": "code",
   "execution_count": 40,
   "metadata": {
    "execution": {
     "iopub.execute_input": "2020-11-08T15:21:27.671760Z",
     "iopub.status.busy": "2020-11-08T15:21:27.671076Z",
     "iopub.status.idle": "2020-11-08T15:21:28.115228Z",
     "shell.execute_reply": "2020-11-08T15:21:28.114598Z"
    },
    "papermill": {
     "duration": 0.534572,
     "end_time": "2020-11-08T15:21:28.115345",
     "exception": false,
     "start_time": "2020-11-08T15:21:27.580773",
     "status": "completed"
    },
    "tags": []
   },
   "outputs": [],
   "source": [
    "# GBM Tuned Model\n",
    "\n",
    "gbm_tuned = GradientBoostingClassifier(learning_rate = 0.1,\n",
    "                                      max_depth = 3,\n",
    "                                      n_estimators = 200,\n",
    "                                      subsample = 0.8).fit(X,y)"
   ]
  },
  {
   "cell_type": "code",
   "execution_count": 41,
   "metadata": {
    "execution": {
     "iopub.execute_input": "2020-11-08T15:21:28.244620Z",
     "iopub.status.busy": "2020-11-08T15:21:28.243950Z",
     "iopub.status.idle": "2020-11-08T15:21:28.661937Z",
     "shell.execute_reply": "2020-11-08T15:21:28.662641Z"
    },
    "papermill": {
     "duration": 0.48627,
     "end_time": "2020-11-08T15:21:28.662818",
     "exception": false,
     "start_time": "2020-11-08T15:21:28.176548",
     "status": "completed"
    },
    "tags": []
   },
   "outputs": [],
   "source": [
    "# XGBoost Tuned Model\n",
    "\n",
    "xgb_tuned = XGBClassifier(learning_rate = 0.01,\n",
    "                         max_depth = 3,\n",
    "                         n_estimators =1000,\n",
    "                         subsample = 1.0).fit(X,y)"
   ]
  },
  {
   "cell_type": "code",
   "execution_count": 42,
   "metadata": {
    "execution": {
     "iopub.execute_input": "2020-11-08T15:21:28.836731Z",
     "iopub.status.busy": "2020-11-08T15:21:28.835929Z",
     "iopub.status.idle": "2020-11-08T15:21:40.630836Z",
     "shell.execute_reply": "2020-11-08T15:21:40.631618Z"
    },
    "papermill": {
     "duration": 11.886625,
     "end_time": "2020-11-08T15:21:40.631806",
     "exception": false,
     "start_time": "2020-11-08T15:21:28.745181",
     "status": "completed"
    },
    "tags": []
   },
   "outputs": [
    {
     "name": "stdout",
     "output_type": "stream",
     "text": [
      "GBM: 0.880417 (0.035535)\n",
      "XGBoost: 0.894874 (0.031140)\n",
      "LightGBM: 0.900103 (0.027805)\n"
     ]
    }
   ],
   "source": [
    "# evaluate each model in turn\n",
    "models = [(\"GBM\", gbm_tuned),\n",
    "         (\"XGBoost\", xgb_tuned),\n",
    "         (\"LightGBM\", lgbm_tuned)]\n",
    "results = []\n",
    "names = []\n",
    "for name, model in models:\n",
    "    kfold = KFold(n_splits=10, random_state=123456)\n",
    "    cv_results = cross_val_score(model, X, y, cv=10, scoring=\"accuracy\")\n",
    "    results.append(cv_results)\n",
    "    names.append(name)\n",
    "    msg = \"%s: %f (%f)\" % (name, cv_results.mean(), cv_results.std())\n",
    "    print(msg)"
   ]
  },
  {
   "cell_type": "markdown",
   "metadata": {
    "papermill": {
     "duration": 0.106576,
     "end_time": "2020-11-08T15:21:40.863764",
     "exception": false,
     "start_time": "2020-11-08T15:21:40.757188",
     "status": "completed"
    },
    "tags": []
   },
   "source": [
    "----------------------------\n",
    "# &#9812;Final Model | LightGBM: 0.90"
   ]
  },
  {
   "cell_type": "code",
   "execution_count": 43,
   "metadata": {
    "execution": {
     "iopub.execute_input": "2020-11-08T15:21:40.994112Z",
     "iopub.status.busy": "2020-11-08T15:21:40.992988Z",
     "iopub.status.idle": "2020-11-08T15:21:41.223756Z",
     "shell.execute_reply": "2020-11-08T15:21:41.223139Z"
    },
    "papermill": {
     "duration": 0.297934,
     "end_time": "2020-11-08T15:21:41.223865",
     "exception": false,
     "start_time": "2020-11-08T15:21:40.925931",
     "status": "completed"
    },
    "tags": []
   },
   "outputs": [
    {
     "data": {
      "image/png": "[encoded data removed]",
      "text/plain": [
       "<Figure size 432x288 with 1 Axes>"
      ]
     },
     "metadata": {},
     "output_type": "display_data"
    }
   ],
   "source": [
    "feature_imp = pd.Series(lgbm_tuned.feature_importances_,\n",
    "                        index=X.columns).sort_values(ascending=False)\n",
    "\n",
    "sns.barplot(x=feature_imp, y=feature_imp.index)\n",
    "plt.xlabel('LightGBM: 0.90 Accuracy')\n",
    "plt.title(\"Feature Importance\")\n",
    "plt.show()"
   ]
  },
  {
   "cell_type": "code",
   "execution_count": 44,
   "metadata": {
    "execution": {
     "iopub.execute_input": "2020-11-08T15:21:41.360117Z",
     "iopub.status.busy": "2020-11-08T15:21:41.359144Z",
     "iopub.status.idle": "2020-11-08T15:21:41.403904Z",
     "shell.execute_reply": "2020-11-08T15:21:41.404528Z"
    },
    "papermill": {
     "duration": 0.116311,
     "end_time": "2020-11-08T15:21:41.404699",
     "exception": false,
     "start_time": "2020-11-08T15:21:41.288388",
     "status": "completed"
    },
    "tags": []
   },
   "outputs": [
    {
     "name": "stdout",
     "output_type": "stream",
     "text": [
      "0.7936925098554534\n",
      "              precision    recall  f1-score   support\n",
      "\n",
      "           0       0.80      0.90      0.85       494\n",
      "           1       0.77      0.59      0.67       267\n",
      "\n",
      "    accuracy                           0.79       761\n",
      "   macro avg       0.79      0.75      0.76       761\n",
      "weighted avg       0.79      0.79      0.79       761\n",
      "\n"
     ]
    }
   ],
   "source": [
    "# Checking Overfitting\n",
    "log_model = LogisticRegression().fit(X,y)\n",
    "y_pred = log_model.predict(X)\n",
    "print(accuracy_score(y, y_pred))\n",
    "print(classification_report(y, y_pred))"
   ]
  },
  {
   "cell_type": "markdown",
   "metadata": {
    "papermill": {
     "duration": 0.063405,
     "end_time": "2020-11-08T15:21:41.532821",
     "exception": false,
     "start_time": "2020-11-08T15:21:41.469416",
     "status": "completed"
    },
    "tags": []
   },
   "source": [
    "<div class=\"alert alert-warning\" role=\"alert\" style=\"margin-top: 20px\">\n",
    "\n",
    "<h1>REPORT</h1>\n",
    "\n",
    "<p><strong>The aim of this study</strong> was to create classification models for the diabetes data set and to predict whether a person is sick by establishing models and to obtain maximum validation scores in the established models. Here the steps;</p>\n",
    "<p><strong>Exploratory Data Analysis:</strong>  The data set&#39;s structural data were checked. The types of variables in the dataset were examined. Size information of the dataset was accessed. The 0 values in the data set are missing values. Primarily these 0 values were replaced with NaN values. Descriptive statistics of the data set were examined.</p>\n",
    "<p><strong>Data Preprocessing section;</strong> The NaN values missing observations were filled with the median values of whether each variable was diabetic or not. The outliers were determined by LOF and dropped. </p>\n",
    "<p><strong>In model building;</strong> first, the base model was create and the test results were checked. Then categorical variables were edited and new features were added to the model.</p>\n",
    "<p><strong>During Model Building;</strong> Logistic Regression, KNN, CART, Random Forests, GBM, XGBoost, LightGBM like using machine learning models Cross Validation Score were calculated. </p>\n",
    "<p><strong>According to test results;</strong> GBM, XGBoost, LightGBM hyperparameter optimizations optimized to increase Cross Validation value.</p>\n",
    "<p><strong>The model with the highest score after Hyper Parameter optimization was LGBM with 0.90 cross validation score</strong></p>\n",
    "\n",
    "\n",
    "\n",
    "</div>"
   ]
  }
 ],
 "metadata": {
  "kernelspec": {
   "display_name": "Python 3.10.6 64-bit",
   "language": "python",
   "name": "python3"
  },
  "language_info": {
   "codemirror_mode": {
    "name": "ipython",
    "version": 3
   },
   "file_extension": ".py",
   "mimetype": "text/x-python",
   "name": "python",
   "nbconvert_exporter": "python",
   "pygments_lexer": "ipython3",
   "version": "3.10.6"
  },
  "papermill": {
   "duration": 46.236702,
   "end_time": "2020-11-08T15:21:41.703929",
   "environment_variables": {},
   "exception": null,
   "input_path": "__notebook__.ipynb",
   "output_path": "__notebook__.ipynb",
   "parameters": {},
   "start_time": "2020-11-08T15:20:55.467227",
   "version": "2.1.0"
  },
  "vscode": {
   "interpreter": {
    "hash": "b0fa6594d8f4cbf19f97940f81e996739fb7646882a419484c72d19e05852a7e"
   }
  }
 },
 "nbformat": 4,
 "nbformat_minor": 4
}
